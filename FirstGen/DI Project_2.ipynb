{
 "cells": [
  {
   "cell_type": "code",
   "execution_count": 1,
   "metadata": {
    "collapsed": true
   },
   "outputs": [],
   "source": [
    "import pandas as pd\n",
    "import numpy as np\n",
    "import matplotlib.pyplot as plt\n",
    "import math\n",
    "import datetime\n",
    "import time\n",
    "from numpy import array\n",
    "import requests"
   ]
  },
  {
   "cell_type": "code",
   "execution_count": 2,
   "metadata": {},
   "outputs": [
    {
     "name": "stderr",
     "output_type": "stream",
     "text": [
      "/anaconda/lib/python3.6/site-packages/IPython/core/interactiveshell.py:2717: DtypeWarning: Columns (6,9,1725,1726,1727,1728,1729,1743) have mixed types. Specify dtype option on import or set low_memory=False.\n",
      "  interactivity=interactivity, compiler=compiler, result=result)\n"
     ]
    }
   ],
   "source": [
    "df = pd.read_csv('MERGED2015_16_PP.csv')"
   ]
  },
  {
   "cell_type": "code",
   "execution_count": 39,
   "metadata": {},
   "outputs": [
    {
     "name": "stderr",
     "output_type": "stream",
     "text": [
      "/anaconda/lib/python3.6/site-packages/IPython/core/interactiveshell.py:2717: DtypeWarning: Columns (6,1169,1170,1171,1172,1173,1174,1175,1177,1178,1179,1183,1184,1185,1186,1187,1188,1196,1199,1200,1201,1209,1212,1213,1214,1222,1223,1224,1225,1226,1227,1235,1236,1237,1238,1239,1240,1248,1250,1251,1252,1253,1255,1257,1261,1263,1264,1265,1266,1268,1270,1274,1275,1276,1277,1278,1279,1283,1287,1288,1289,1290,1291,1292,1296,1303,1316,1326,1327,1328,1329,1330,1331,1335,1339,1340,1341,1342,1343,1344,1348,1379,1380,1381,1382,1383,1384,1385,1386,1387,1388,1389,1390,1391,1392,1393,1394,1395,1396,1397,1398,1399,1400,1401,1402,1403,1404,1405,1406,1407,1411,1426,1427,1475,1476,1479,1480,1483,1484,1487,1488,1489,1490,1491,1492,1493,1494,1495,1496,1497,1498,1499,1500,1501,1502,1503,1517,1529,1530,1532,1537,1540,1541,1542,1575,1576,1577,1578,1579,1580,1581,1582,1583,1584,1585,1586,1587,1588,1589,1590,1591,1592,1593,1594,1595,1596,1597,1598,1599,1600,1601,1602,1606,1609,1610,1613,1614,1615,1708,1729) have mixed types. Specify dtype option on import or set low_memory=False.\n",
      "  interactivity=interactivity, compiler=compiler, result=result)\n"
     ]
    }
   ],
   "source": [
    "dfmore = pd.read_csv('MERGED2014_15_PP.csv')"
   ]
  },
  {
   "cell_type": "code",
   "execution_count": 43,
   "metadata": {},
   "outputs": [
    {
     "data": {
      "text/plain": [
       "(15296, 1777)"
      ]
     },
     "execution_count": 43,
     "metadata": {},
     "output_type": "execute_result"
    }
   ],
   "source": [
    "pd.concat([df,dfmore], axis=0).shape"
   ]
  },
  {
   "cell_type": "code",
   "execution_count": 3,
   "metadata": {},
   "outputs": [
    {
     "data": {
      "text/plain": [
       "Index(['UNITID', 'OPEID', 'OPEID6', 'INSTNM', 'CITY', 'STABBR', 'ZIP',\n",
       "       'ACCREDAGENCY', 'INSTURL', 'NPCURL',\n",
       "       ...\n",
       "       'D150_L4_WHITENH', 'D150_L4_BLACKNH', 'D150_L4_API', 'D150_L4_AIANOLD',\n",
       "       'D150_L4_HISPOLD', 'D_PCTPELL_PCTFLOAN', 'OPENADMP', 'UGNONDS', 'GRADS',\n",
       "       'ACCREDCODE'],\n",
       "      dtype='object', length=1777)"
      ]
     },
     "execution_count": 3,
     "metadata": {},
     "output_type": "execute_result"
    }
   ],
   "source": [
    "df.columns"
   ]
  },
  {
   "cell_type": "code",
   "execution_count": 4,
   "metadata": {},
   "outputs": [
    {
     "data": {
      "text/plain": [
       "(7593, 1777)"
      ]
     },
     "execution_count": 4,
     "metadata": {},
     "output_type": "execute_result"
    }
   ],
   "source": [
    "df.shape"
   ]
  },
  {
   "cell_type": "code",
   "execution_count": 5,
   "metadata": {},
   "outputs": [
    {
     "data": {
      "text/html": [
       "<div>\n",
       "<style>\n",
       "    .dataframe thead tr:only-child th {\n",
       "        text-align: right;\n",
       "    }\n",
       "\n",
       "    .dataframe thead th {\n",
       "        text-align: left;\n",
       "    }\n",
       "\n",
       "    .dataframe tbody tr th {\n",
       "        vertical-align: top;\n",
       "    }\n",
       "</style>\n",
       "<table border=\"1\" class=\"dataframe\">\n",
       "  <thead>\n",
       "    <tr style=\"text-align: right;\">\n",
       "      <th></th>\n",
       "      <th>UNITID</th>\n",
       "      <th>OPEID</th>\n",
       "      <th>OPEID6</th>\n",
       "      <th>INSTNM</th>\n",
       "      <th>CITY</th>\n",
       "      <th>STABBR</th>\n",
       "      <th>ZIP</th>\n",
       "      <th>ACCREDAGENCY</th>\n",
       "      <th>INSTURL</th>\n",
       "      <th>NPCURL</th>\n",
       "      <th>...</th>\n",
       "      <th>D150_L4_WHITENH</th>\n",
       "      <th>D150_L4_BLACKNH</th>\n",
       "      <th>D150_L4_API</th>\n",
       "      <th>D150_L4_AIANOLD</th>\n",
       "      <th>D150_L4_HISPOLD</th>\n",
       "      <th>D_PCTPELL_PCTFLOAN</th>\n",
       "      <th>OPENADMP</th>\n",
       "      <th>UGNONDS</th>\n",
       "      <th>GRADS</th>\n",
       "      <th>ACCREDCODE</th>\n",
       "    </tr>\n",
       "  </thead>\n",
       "  <tbody>\n",
       "    <tr>\n",
       "      <th>0</th>\n",
       "      <td>100654</td>\n",
       "      <td>100200</td>\n",
       "      <td>1002</td>\n",
       "      <td>Alabama A &amp; M University</td>\n",
       "      <td>Normal</td>\n",
       "      <td>AL</td>\n",
       "      <td>35762</td>\n",
       "      <td>Southern Association of Colleges and Schools C...</td>\n",
       "      <td>www.aamu.edu/</td>\n",
       "      <td>www2.aamu.edu/scripts/netpricecalc/npcalc.htm</td>\n",
       "      <td>...</td>\n",
       "      <td>NaN</td>\n",
       "      <td>NaN</td>\n",
       "      <td>NaN</td>\n",
       "      <td>NaN</td>\n",
       "      <td>NaN</td>\n",
       "      <td>4210.0</td>\n",
       "      <td>2.0</td>\n",
       "      <td>NaN</td>\n",
       "      <td>1123.0</td>\n",
       "      <td>SACSCC</td>\n",
       "    </tr>\n",
       "    <tr>\n",
       "      <th>1</th>\n",
       "      <td>100663</td>\n",
       "      <td>105200</td>\n",
       "      <td>1052</td>\n",
       "      <td>University of Alabama at Birmingham</td>\n",
       "      <td>Birmingham</td>\n",
       "      <td>AL</td>\n",
       "      <td>35294-0110</td>\n",
       "      <td>Southern Association of Colleges and Schools C...</td>\n",
       "      <td>www.uab.edu</td>\n",
       "      <td>uab.studentaidcalculator.com/survey.aspx</td>\n",
       "      <td>...</td>\n",
       "      <td>NaN</td>\n",
       "      <td>NaN</td>\n",
       "      <td>NaN</td>\n",
       "      <td>NaN</td>\n",
       "      <td>NaN</td>\n",
       "      <td>11679.0</td>\n",
       "      <td>2.0</td>\n",
       "      <td>242.0</td>\n",
       "      <td>6822.0</td>\n",
       "      <td>SACSCC</td>\n",
       "    </tr>\n",
       "    <tr>\n",
       "      <th>2</th>\n",
       "      <td>100690</td>\n",
       "      <td>2503400</td>\n",
       "      <td>25034</td>\n",
       "      <td>Amridge University</td>\n",
       "      <td>Montgomery</td>\n",
       "      <td>AL</td>\n",
       "      <td>36117-3553</td>\n",
       "      <td>Southern Association of Colleges and Schools C...</td>\n",
       "      <td>www.amridgeuniversity.edu</td>\n",
       "      <td>www2.amridgeuniversity.edu:9091/</td>\n",
       "      <td>...</td>\n",
       "      <td>NaN</td>\n",
       "      <td>NaN</td>\n",
       "      <td>NaN</td>\n",
       "      <td>NaN</td>\n",
       "      <td>NaN</td>\n",
       "      <td>279.0</td>\n",
       "      <td>1.0</td>\n",
       "      <td>NaN</td>\n",
       "      <td>319.0</td>\n",
       "      <td>SACSCC</td>\n",
       "    </tr>\n",
       "    <tr>\n",
       "      <th>3</th>\n",
       "      <td>100706</td>\n",
       "      <td>105500</td>\n",
       "      <td>1055</td>\n",
       "      <td>University of Alabama in Huntsville</td>\n",
       "      <td>Huntsville</td>\n",
       "      <td>AL</td>\n",
       "      <td>35899</td>\n",
       "      <td>Southern Association of Colleges and Schools C...</td>\n",
       "      <td>www.uah.edu</td>\n",
       "      <td>finaid.uah.edu/</td>\n",
       "      <td>...</td>\n",
       "      <td>NaN</td>\n",
       "      <td>NaN</td>\n",
       "      <td>NaN</td>\n",
       "      <td>NaN</td>\n",
       "      <td>NaN</td>\n",
       "      <td>5618.0</td>\n",
       "      <td>2.0</td>\n",
       "      <td>184.0</td>\n",
       "      <td>1853.0</td>\n",
       "      <td>SACSCC</td>\n",
       "    </tr>\n",
       "    <tr>\n",
       "      <th>4</th>\n",
       "      <td>100724</td>\n",
       "      <td>100500</td>\n",
       "      <td>1005</td>\n",
       "      <td>Alabama State University</td>\n",
       "      <td>Montgomery</td>\n",
       "      <td>AL</td>\n",
       "      <td>36104-0271</td>\n",
       "      <td>Southern Association of Colleges and Schools C...</td>\n",
       "      <td>www.alasu.edu</td>\n",
       "      <td>www.alasu.edu/cost-aid/forms/calculator/index....</td>\n",
       "      <td>...</td>\n",
       "      <td>NaN</td>\n",
       "      <td>NaN</td>\n",
       "      <td>NaN</td>\n",
       "      <td>NaN</td>\n",
       "      <td>NaN</td>\n",
       "      <td>4805.0</td>\n",
       "      <td>2.0</td>\n",
       "      <td>24.0</td>\n",
       "      <td>619.0</td>\n",
       "      <td>SACSCC</td>\n",
       "    </tr>\n",
       "  </tbody>\n",
       "</table>\n",
       "<p>5 rows × 1777 columns</p>\n",
       "</div>"
      ],
      "text/plain": [
       "   UNITID    OPEID  OPEID6                               INSTNM        CITY  \\\n",
       "0  100654   100200    1002             Alabama A & M University      Normal   \n",
       "1  100663   105200    1052  University of Alabama at Birmingham  Birmingham   \n",
       "2  100690  2503400   25034                   Amridge University  Montgomery   \n",
       "3  100706   105500    1055  University of Alabama in Huntsville  Huntsville   \n",
       "4  100724   100500    1005             Alabama State University  Montgomery   \n",
       "\n",
       "  STABBR         ZIP                                       ACCREDAGENCY  \\\n",
       "0     AL       35762  Southern Association of Colleges and Schools C...   \n",
       "1     AL  35294-0110  Southern Association of Colleges and Schools C...   \n",
       "2     AL  36117-3553  Southern Association of Colleges and Schools C...   \n",
       "3     AL       35899  Southern Association of Colleges and Schools C...   \n",
       "4     AL  36104-0271  Southern Association of Colleges and Schools C...   \n",
       "\n",
       "                     INSTURL  \\\n",
       "0              www.aamu.edu/   \n",
       "1                www.uab.edu   \n",
       "2  www.amridgeuniversity.edu   \n",
       "3                www.uah.edu   \n",
       "4              www.alasu.edu   \n",
       "\n",
       "                                              NPCURL     ...      \\\n",
       "0      www2.aamu.edu/scripts/netpricecalc/npcalc.htm     ...       \n",
       "1           uab.studentaidcalculator.com/survey.aspx     ...       \n",
       "2                   www2.amridgeuniversity.edu:9091/     ...       \n",
       "3                                    finaid.uah.edu/     ...       \n",
       "4  www.alasu.edu/cost-aid/forms/calculator/index....     ...       \n",
       "\n",
       "   D150_L4_WHITENH  D150_L4_BLACKNH  D150_L4_API  D150_L4_AIANOLD  \\\n",
       "0              NaN              NaN          NaN              NaN   \n",
       "1              NaN              NaN          NaN              NaN   \n",
       "2              NaN              NaN          NaN              NaN   \n",
       "3              NaN              NaN          NaN              NaN   \n",
       "4              NaN              NaN          NaN              NaN   \n",
       "\n",
       "   D150_L4_HISPOLD  D_PCTPELL_PCTFLOAN  OPENADMP  UGNONDS   GRADS  ACCREDCODE  \n",
       "0              NaN              4210.0       2.0      NaN  1123.0      SACSCC  \n",
       "1              NaN             11679.0       2.0    242.0  6822.0      SACSCC  \n",
       "2              NaN               279.0       1.0      NaN   319.0      SACSCC  \n",
       "3              NaN              5618.0       2.0    184.0  1853.0      SACSCC  \n",
       "4              NaN              4805.0       2.0     24.0   619.0      SACSCC  \n",
       "\n",
       "[5 rows x 1777 columns]"
      ]
     },
     "execution_count": 5,
     "metadata": {},
     "output_type": "execute_result"
    }
   ],
   "source": [
    "df.head()"
   ]
  },
  {
   "cell_type": "code",
   "execution_count": 6,
   "metadata": {},
   "outputs": [],
   "source": [
    "df_school= df[['INSTNM','CITY','STABBR','ZIP','ACCREDAGENCY','INSTURL','NPCURL','SCH_DEG','HCM2','MAIN','NUMBRANCH',\n",
    "'PREDDEG','HIGHDEG','CONTROL','ST_FIPS','REGION','LOCALE', 'LOCALE2', 'CCBASIC', 'CCUGPROF','CCSIZSET','HBCU',\n",
    "'PBI','ANNHI','TRIBAL','AANAPII','HSI','NANTI','MENONLY','WOMENONLY','RELAFFIL','DISTANCEONLY','CURROPER'\n",
    ",'TUITFTE','INEXPFTE','AVGFACSAL','PFTFAC','ALIAS','ICLEVEL','OPENADMP','ACCREDCODE','T4APPROVALDATE']]"
   ]
  },
  {
   "cell_type": "code",
   "execution_count": 7,
   "metadata": {},
   "outputs": [
    {
     "data": {
      "text/html": [
       "<div>\n",
       "<style>\n",
       "    .dataframe thead tr:only-child th {\n",
       "        text-align: right;\n",
       "    }\n",
       "\n",
       "    .dataframe thead th {\n",
       "        text-align: left;\n",
       "    }\n",
       "\n",
       "    .dataframe tbody tr th {\n",
       "        vertical-align: top;\n",
       "    }\n",
       "</style>\n",
       "<table border=\"1\" class=\"dataframe\">\n",
       "  <thead>\n",
       "    <tr style=\"text-align: right;\">\n",
       "      <th></th>\n",
       "      <th>INSTNM</th>\n",
       "      <th>CITY</th>\n",
       "      <th>STABBR</th>\n",
       "      <th>ZIP</th>\n",
       "      <th>ACCREDAGENCY</th>\n",
       "      <th>INSTURL</th>\n",
       "      <th>NPCURL</th>\n",
       "      <th>SCH_DEG</th>\n",
       "      <th>HCM2</th>\n",
       "      <th>MAIN</th>\n",
       "      <th>...</th>\n",
       "      <th>CURROPER</th>\n",
       "      <th>TUITFTE</th>\n",
       "      <th>INEXPFTE</th>\n",
       "      <th>AVGFACSAL</th>\n",
       "      <th>PFTFAC</th>\n",
       "      <th>ALIAS</th>\n",
       "      <th>ICLEVEL</th>\n",
       "      <th>OPENADMP</th>\n",
       "      <th>ACCREDCODE</th>\n",
       "      <th>T4APPROVALDATE</th>\n",
       "    </tr>\n",
       "  </thead>\n",
       "  <tbody>\n",
       "    <tr>\n",
       "      <th>0</th>\n",
       "      <td>Alabama A &amp; M University</td>\n",
       "      <td>Normal</td>\n",
       "      <td>AL</td>\n",
       "      <td>35762</td>\n",
       "      <td>Southern Association of Colleges and Schools C...</td>\n",
       "      <td>www.aamu.edu/</td>\n",
       "      <td>www2.aamu.edu/scripts/netpricecalc/npcalc.htm</td>\n",
       "      <td>NaN</td>\n",
       "      <td>0</td>\n",
       "      <td>1</td>\n",
       "      <td>...</td>\n",
       "      <td>1</td>\n",
       "      <td>9657.0</td>\n",
       "      <td>7941.0</td>\n",
       "      <td>7017.0</td>\n",
       "      <td>0.7096</td>\n",
       "      <td>AAMU</td>\n",
       "      <td>1</td>\n",
       "      <td>2.0</td>\n",
       "      <td>SACSCC</td>\n",
       "      <td>12/12/1965</td>\n",
       "    </tr>\n",
       "    <tr>\n",
       "      <th>1</th>\n",
       "      <td>University of Alabama at Birmingham</td>\n",
       "      <td>Birmingham</td>\n",
       "      <td>AL</td>\n",
       "      <td>35294-0110</td>\n",
       "      <td>Southern Association of Colleges and Schools C...</td>\n",
       "      <td>www.uab.edu</td>\n",
       "      <td>uab.studentaidcalculator.com/survey.aspx</td>\n",
       "      <td>NaN</td>\n",
       "      <td>0</td>\n",
       "      <td>1</td>\n",
       "      <td>...</td>\n",
       "      <td>1</td>\n",
       "      <td>10263.0</td>\n",
       "      <td>17548.0</td>\n",
       "      <td>10221.0</td>\n",
       "      <td>0.9081</td>\n",
       "      <td>NaN</td>\n",
       "      <td>1</td>\n",
       "      <td>2.0</td>\n",
       "      <td>SACSCC</td>\n",
       "      <td>12/1/1965</td>\n",
       "    </tr>\n",
       "    <tr>\n",
       "      <th>2</th>\n",
       "      <td>Amridge University</td>\n",
       "      <td>Montgomery</td>\n",
       "      <td>AL</td>\n",
       "      <td>36117-3553</td>\n",
       "      <td>Southern Association of Colleges and Schools C...</td>\n",
       "      <td>www.amridgeuniversity.edu</td>\n",
       "      <td>www2.amridgeuniversity.edu:9091/</td>\n",
       "      <td>NaN</td>\n",
       "      <td>0</td>\n",
       "      <td>1</td>\n",
       "      <td>...</td>\n",
       "      <td>1</td>\n",
       "      <td>17071.0</td>\n",
       "      <td>7113.0</td>\n",
       "      <td>3217.0</td>\n",
       "      <td>1.0000</td>\n",
       "      <td>Southern Christian University |Regions University</td>\n",
       "      <td>1</td>\n",
       "      <td>1.0</td>\n",
       "      <td>SACSCC</td>\n",
       "      <td>3/26/1987</td>\n",
       "    </tr>\n",
       "    <tr>\n",
       "      <th>3</th>\n",
       "      <td>University of Alabama in Huntsville</td>\n",
       "      <td>Huntsville</td>\n",
       "      <td>AL</td>\n",
       "      <td>35899</td>\n",
       "      <td>Southern Association of Colleges and Schools C...</td>\n",
       "      <td>www.uah.edu</td>\n",
       "      <td>finaid.uah.edu/</td>\n",
       "      <td>NaN</td>\n",
       "      <td>0</td>\n",
       "      <td>1</td>\n",
       "      <td>...</td>\n",
       "      <td>1</td>\n",
       "      <td>8917.0</td>\n",
       "      <td>10619.0</td>\n",
       "      <td>9514.0</td>\n",
       "      <td>0.6173</td>\n",
       "      <td>UAH |University of Alabama Huntsville</td>\n",
       "      <td>1</td>\n",
       "      <td>2.0</td>\n",
       "      <td>SACSCC</td>\n",
       "      <td>12/1/1965</td>\n",
       "    </tr>\n",
       "    <tr>\n",
       "      <th>4</th>\n",
       "      <td>Alabama State University</td>\n",
       "      <td>Montgomery</td>\n",
       "      <td>AL</td>\n",
       "      <td>36104-0271</td>\n",
       "      <td>Southern Association of Colleges and Schools C...</td>\n",
       "      <td>www.alasu.edu</td>\n",
       "      <td>www.alasu.edu/cost-aid/forms/calculator/index....</td>\n",
       "      <td>NaN</td>\n",
       "      <td>0</td>\n",
       "      <td>1</td>\n",
       "      <td>...</td>\n",
       "      <td>1</td>\n",
       "      <td>7717.0</td>\n",
       "      <td>7742.0</td>\n",
       "      <td>7940.0</td>\n",
       "      <td>0.6395</td>\n",
       "      <td>NaN</td>\n",
       "      <td>1</td>\n",
       "      <td>2.0</td>\n",
       "      <td>SACSCC</td>\n",
       "      <td>12/1/1965</td>\n",
       "    </tr>\n",
       "  </tbody>\n",
       "</table>\n",
       "<p>5 rows × 42 columns</p>\n",
       "</div>"
      ],
      "text/plain": [
       "                                INSTNM        CITY STABBR         ZIP  \\\n",
       "0             Alabama A & M University      Normal     AL       35762   \n",
       "1  University of Alabama at Birmingham  Birmingham     AL  35294-0110   \n",
       "2                   Amridge University  Montgomery     AL  36117-3553   \n",
       "3  University of Alabama in Huntsville  Huntsville     AL       35899   \n",
       "4             Alabama State University  Montgomery     AL  36104-0271   \n",
       "\n",
       "                                        ACCREDAGENCY  \\\n",
       "0  Southern Association of Colleges and Schools C...   \n",
       "1  Southern Association of Colleges and Schools C...   \n",
       "2  Southern Association of Colleges and Schools C...   \n",
       "3  Southern Association of Colleges and Schools C...   \n",
       "4  Southern Association of Colleges and Schools C...   \n",
       "\n",
       "                     INSTURL  \\\n",
       "0              www.aamu.edu/   \n",
       "1                www.uab.edu   \n",
       "2  www.amridgeuniversity.edu   \n",
       "3                www.uah.edu   \n",
       "4              www.alasu.edu   \n",
       "\n",
       "                                              NPCURL  SCH_DEG  HCM2  MAIN  \\\n",
       "0      www2.aamu.edu/scripts/netpricecalc/npcalc.htm      NaN     0     1   \n",
       "1           uab.studentaidcalculator.com/survey.aspx      NaN     0     1   \n",
       "2                   www2.amridgeuniversity.edu:9091/      NaN     0     1   \n",
       "3                                    finaid.uah.edu/      NaN     0     1   \n",
       "4  www.alasu.edu/cost-aid/forms/calculator/index....      NaN     0     1   \n",
       "\n",
       "        ...        CURROPER  TUITFTE  INEXPFTE  AVGFACSAL  PFTFAC  \\\n",
       "0       ...               1   9657.0    7941.0     7017.0  0.7096   \n",
       "1       ...               1  10263.0   17548.0    10221.0  0.9081   \n",
       "2       ...               1  17071.0    7113.0     3217.0  1.0000   \n",
       "3       ...               1   8917.0   10619.0     9514.0  0.6173   \n",
       "4       ...               1   7717.0    7742.0     7940.0  0.6395   \n",
       "\n",
       "                                               ALIAS  ICLEVEL  OPENADMP  \\\n",
       "0                                               AAMU        1       2.0   \n",
       "1                                                NaN        1       2.0   \n",
       "2  Southern Christian University |Regions University        1       1.0   \n",
       "3              UAH |University of Alabama Huntsville        1       2.0   \n",
       "4                                                NaN        1       2.0   \n",
       "\n",
       "   ACCREDCODE  T4APPROVALDATE  \n",
       "0      SACSCC      12/12/1965  \n",
       "1      SACSCC       12/1/1965  \n",
       "2      SACSCC       3/26/1987  \n",
       "3      SACSCC       12/1/1965  \n",
       "4      SACSCC       12/1/1965  \n",
       "\n",
       "[5 rows x 42 columns]"
      ]
     },
     "execution_count": 7,
     "metadata": {},
     "output_type": "execute_result"
    }
   ],
   "source": [
    "df_school.head()"
   ]
  },
  {
   "cell_type": "code",
   "execution_count": 8,
   "metadata": {},
   "outputs": [
    {
     "name": "stderr",
     "output_type": "stream",
     "text": [
      "/anaconda/lib/python3.6/site-packages/ipykernel_launcher.py:1: SettingWithCopyWarning: \n",
      "A value is trying to be set on a copy of a slice from a DataFrame\n",
      "\n",
      "See the caveats in the documentation: http://pandas.pydata.org/pandas-docs/stable/indexing.html#indexing-view-versus-copy\n",
      "  \"\"\"Entry point for launching an IPython kernel.\n"
     ]
    }
   ],
   "source": [
    "df_school.drop(['INSTURL','NPCURL','CITY','ZIP','STABBR','ACCREDCODE','ACCREDAGENCY','ALIAS','ICLEVEL'], axis=1, inplace=True)"
   ]
  },
  {
   "cell_type": "code",
   "execution_count": 9,
   "metadata": {},
   "outputs": [
    {
     "name": "stderr",
     "output_type": "stream",
     "text": [
      "/anaconda/lib/python3.6/site-packages/ipykernel_launcher.py:1: SettingWithCopyWarning: \n",
      "A value is trying to be set on a copy of a slice from a DataFrame\n",
      "\n",
      "See the caveats in the documentation: http://pandas.pydata.org/pandas-docs/stable/indexing.html#indexing-view-versus-copy\n",
      "  \"\"\"Entry point for launching an IPython kernel.\n"
     ]
    }
   ],
   "source": [
    "df_school.drop(['SCH_DEG','LOCALE2','RELAFFIL'], axis =1, inplace = True)"
   ]
  },
  {
   "cell_type": "code",
   "execution_count": 10,
   "metadata": {},
   "outputs": [
    {
     "data": {
      "text/plain": [
       "INSTNM               0\n",
       "HCM2                 0\n",
       "MAIN                 0\n",
       "NUMBRANCH            0\n",
       "PREDDEG              0\n",
       "HIGHDEG              0\n",
       "CONTROL              0\n",
       "ST_FIPS              0\n",
       "REGION               0\n",
       "LOCALE             446\n",
       "CCBASIC            446\n",
       "CCUGPROF           446\n",
       "CCSIZSET           446\n",
       "HBCU               446\n",
       "PBI                446\n",
       "ANNHI              446\n",
       "TRIBAL             446\n",
       "AANAPII            446\n",
       "HSI                446\n",
       "NANTI              446\n",
       "MENONLY            446\n",
       "WOMENONLY          446\n",
       "DISTANCEONLY       446\n",
       "CURROPER             0\n",
       "TUITFTE            460\n",
       "INEXPFTE           460\n",
       "AVGFACSAL         3139\n",
       "PFTFAC            3656\n",
       "OPENADMP           934\n",
       "T4APPROVALDATE     456\n",
       "dtype: int64"
      ]
     },
     "execution_count": 10,
     "metadata": {},
     "output_type": "execute_result"
    }
   ],
   "source": [
    "df_school.isnull().sum()"
   ]
  },
  {
   "cell_type": "code",
   "execution_count": 11,
   "metadata": {
    "collapsed": true
   },
   "outputs": [],
   "source": [
    "df_student = df[['UG','RET_FT4','UG25ABV','AGE_ENTRY','FIRST_GEN']]"
   ]
  },
  {
   "cell_type": "code",
   "execution_count": 12,
   "metadata": {
    "collapsed": true
   },
   "outputs": [],
   "source": [
    "df_cost = df['COSTT4_A'] #students who have signed up for Title IV"
   ]
  },
  {
   "cell_type": "code",
   "execution_count": 13,
   "metadata": {},
   "outputs": [],
   "source": [
    "df_completion = df[['C150_4','C150_L4']]"
   ]
  },
  {
   "cell_type": "code",
   "execution_count": 14,
   "metadata": {
    "collapsed": true
   },
   "outputs": [],
   "source": [
    "df_aid = df[['FEMALE_DEBT_MDN','MALE_DEBT_MDN']]"
   ]
  },
  {
   "cell_type": "code",
   "execution_count": 15,
   "metadata": {
    "collapsed": true
   },
   "outputs": [],
   "source": [
    "df_admission = df['ADM_RATE']"
   ]
  },
  {
   "cell_type": "code",
   "execution_count": 16,
   "metadata": {
    "collapsed": true
   },
   "outputs": [],
   "source": [
    "df_academics = df[['PCIP11','PCIP27']]"
   ]
  },
  {
   "cell_type": "code",
   "execution_count": 17,
   "metadata": {},
   "outputs": [],
   "source": [
    "df_analysis = df[['UNITID','HCM2','NUMBRANCH','PREDDEG','HIGHDEG','CONTROL','ST_FIPS','REGION','LOCALE', \n",
    "                  'CCBASIC', 'CCUGPROF','CCSIZSET','HBCU','PBI','ANNHI','TRIBAL','AANAPII','HSI','NANTI','MENONLY',\n",
    "                  'WOMENONLY','DISTANCEONLY','CURROPER','TUITFTE','INEXPFTE','AVGFACSAL','PFTFAC','OPENADMP',\n",
    "                  'T4APPROVALDATE','UG','RET_FT4','UG25ABV','AGE_ENTRY','FIRST_GEN','COSTT4_A','C150_4','C150_L4',\n",
    "                  'FEMALE_DEBT_MDN','MALE_DEBT_MDN','ADM_RATE','PCIP11','PCIP27']]"
   ]
  },
  {
   "cell_type": "code",
   "execution_count": 18,
   "metadata": {},
   "outputs": [
    {
     "data": {
      "text/plain": [
       "(7593, 42)"
      ]
     },
     "execution_count": 18,
     "metadata": {},
     "output_type": "execute_result"
    }
   ],
   "source": [
    "df_analysis.shape"
   ]
  },
  {
   "cell_type": "code",
   "execution_count": 19,
   "metadata": {},
   "outputs": [
    {
     "data": {
      "text/html": [
       "<div>\n",
       "<style>\n",
       "    .dataframe thead tr:only-child th {\n",
       "        text-align: right;\n",
       "    }\n",
       "\n",
       "    .dataframe thead th {\n",
       "        text-align: left;\n",
       "    }\n",
       "\n",
       "    .dataframe tbody tr th {\n",
       "        vertical-align: top;\n",
       "    }\n",
       "</style>\n",
       "<table border=\"1\" class=\"dataframe\">\n",
       "  <thead>\n",
       "    <tr style=\"text-align: right;\">\n",
       "      <th></th>\n",
       "      <th>UNITID</th>\n",
       "      <th>HCM2</th>\n",
       "      <th>NUMBRANCH</th>\n",
       "      <th>PREDDEG</th>\n",
       "      <th>HIGHDEG</th>\n",
       "      <th>CONTROL</th>\n",
       "      <th>ST_FIPS</th>\n",
       "      <th>REGION</th>\n",
       "      <th>LOCALE</th>\n",
       "      <th>CCBASIC</th>\n",
       "      <th>...</th>\n",
       "      <th>AGE_ENTRY</th>\n",
       "      <th>FIRST_GEN</th>\n",
       "      <th>COSTT4_A</th>\n",
       "      <th>C150_4</th>\n",
       "      <th>C150_L4</th>\n",
       "      <th>FEMALE_DEBT_MDN</th>\n",
       "      <th>MALE_DEBT_MDN</th>\n",
       "      <th>ADM_RATE</th>\n",
       "      <th>PCIP11</th>\n",
       "      <th>PCIP27</th>\n",
       "    </tr>\n",
       "  </thead>\n",
       "  <tbody>\n",
       "    <tr>\n",
       "      <th>0</th>\n",
       "      <td>100654</td>\n",
       "      <td>0</td>\n",
       "      <td>1</td>\n",
       "      <td>3</td>\n",
       "      <td>4</td>\n",
       "      <td>1</td>\n",
       "      <td>1</td>\n",
       "      <td>5</td>\n",
       "      <td>12.0</td>\n",
       "      <td>18.0</td>\n",
       "      <td>...</td>\n",
       "      <td>20.277133825</td>\n",
       "      <td>0.3887357227</td>\n",
       "      <td>20809.0</td>\n",
       "      <td>0.3081</td>\n",
       "      <td>NaN</td>\n",
       "      <td>16000</td>\n",
       "      <td>13750</td>\n",
       "      <td>0.6538</td>\n",
       "      <td>0.0634</td>\n",
       "      <td>0.0094</td>\n",
       "    </tr>\n",
       "    <tr>\n",
       "      <th>1</th>\n",
       "      <td>100663</td>\n",
       "      <td>0</td>\n",
       "      <td>1</td>\n",
       "      <td>3</td>\n",
       "      <td>4</td>\n",
       "      <td>1</td>\n",
       "      <td>1</td>\n",
       "      <td>5</td>\n",
       "      <td>12.0</td>\n",
       "      <td>15.0</td>\n",
       "      <td>...</td>\n",
       "      <td>23.58415642</td>\n",
       "      <td>0.3564593301</td>\n",
       "      <td>22232.0</td>\n",
       "      <td>0.5462</td>\n",
       "      <td>NaN</td>\n",
       "      <td>14750</td>\n",
       "      <td>13750</td>\n",
       "      <td>0.6043</td>\n",
       "      <td>0.0133</td>\n",
       "      <td>0.0124</td>\n",
       "    </tr>\n",
       "    <tr>\n",
       "      <th>2</th>\n",
       "      <td>100690</td>\n",
       "      <td>0</td>\n",
       "      <td>1</td>\n",
       "      <td>3</td>\n",
       "      <td>4</td>\n",
       "      <td>2</td>\n",
       "      <td>1</td>\n",
       "      <td>5</td>\n",
       "      <td>12.0</td>\n",
       "      <td>21.0</td>\n",
       "      <td>...</td>\n",
       "      <td>33.065934066</td>\n",
       "      <td>0.5285714286</td>\n",
       "      <td>12133.0</td>\n",
       "      <td>0.4000</td>\n",
       "      <td>NaN</td>\n",
       "      <td>12500</td>\n",
       "      <td>9500</td>\n",
       "      <td>NaN</td>\n",
       "      <td>0.0000</td>\n",
       "      <td>0.0000</td>\n",
       "    </tr>\n",
       "    <tr>\n",
       "      <th>3</th>\n",
       "      <td>100706</td>\n",
       "      <td>0</td>\n",
       "      <td>1</td>\n",
       "      <td>3</td>\n",
       "      <td>4</td>\n",
       "      <td>1</td>\n",
       "      <td>1</td>\n",
       "      <td>5</td>\n",
       "      <td>12.0</td>\n",
       "      <td>15.0</td>\n",
       "      <td>...</td>\n",
       "      <td>23.152713891</td>\n",
       "      <td>0.3137931034</td>\n",
       "      <td>20999.0</td>\n",
       "      <td>0.4935</td>\n",
       "      <td>NaN</td>\n",
       "      <td>15958</td>\n",
       "      <td>14316</td>\n",
       "      <td>0.8120</td>\n",
       "      <td>0.0315</td>\n",
       "      <td>0.0198</td>\n",
       "    </tr>\n",
       "    <tr>\n",
       "      <th>4</th>\n",
       "      <td>100724</td>\n",
       "      <td>0</td>\n",
       "      <td>1</td>\n",
       "      <td>3</td>\n",
       "      <td>4</td>\n",
       "      <td>1</td>\n",
       "      <td>1</td>\n",
       "      <td>5</td>\n",
       "      <td>12.0</td>\n",
       "      <td>18.0</td>\n",
       "      <td>...</td>\n",
       "      <td>20.201285657</td>\n",
       "      <td>0.369258754</td>\n",
       "      <td>18100.0</td>\n",
       "      <td>0.2696</td>\n",
       "      <td>NaN</td>\n",
       "      <td>16639</td>\n",
       "      <td>14250</td>\n",
       "      <td>0.4639</td>\n",
       "      <td>0.0567</td>\n",
       "      <td>0.0302</td>\n",
       "    </tr>\n",
       "  </tbody>\n",
       "</table>\n",
       "<p>5 rows × 42 columns</p>\n",
       "</div>"
      ],
      "text/plain": [
       "   UNITID  HCM2  NUMBRANCH  PREDDEG  HIGHDEG  CONTROL  ST_FIPS  REGION  \\\n",
       "0  100654     0          1        3        4        1        1       5   \n",
       "1  100663     0          1        3        4        1        1       5   \n",
       "2  100690     0          1        3        4        2        1       5   \n",
       "3  100706     0          1        3        4        1        1       5   \n",
       "4  100724     0          1        3        4        1        1       5   \n",
       "\n",
       "   LOCALE  CCBASIC   ...       AGE_ENTRY     FIRST_GEN  COSTT4_A  C150_4  \\\n",
       "0    12.0     18.0   ...    20.277133825  0.3887357227   20809.0  0.3081   \n",
       "1    12.0     15.0   ...     23.58415642  0.3564593301   22232.0  0.5462   \n",
       "2    12.0     21.0   ...    33.065934066  0.5285714286   12133.0  0.4000   \n",
       "3    12.0     15.0   ...    23.152713891  0.3137931034   20999.0  0.4935   \n",
       "4    12.0     18.0   ...    20.201285657   0.369258754   18100.0  0.2696   \n",
       "\n",
       "   C150_L4  FEMALE_DEBT_MDN  MALE_DEBT_MDN  ADM_RATE  PCIP11  PCIP27  \n",
       "0      NaN            16000          13750    0.6538  0.0634  0.0094  \n",
       "1      NaN            14750          13750    0.6043  0.0133  0.0124  \n",
       "2      NaN            12500           9500       NaN  0.0000  0.0000  \n",
       "3      NaN            15958          14316    0.8120  0.0315  0.0198  \n",
       "4      NaN            16639          14250    0.4639  0.0567  0.0302  \n",
       "\n",
       "[5 rows x 42 columns]"
      ]
     },
     "execution_count": 19,
     "metadata": {},
     "output_type": "execute_result"
    }
   ],
   "source": [
    "df_analysis.head()"
   ]
  },
  {
   "cell_type": "code",
   "execution_count": 20,
   "metadata": {
    "collapsed": true
   },
   "outputs": [],
   "source": [
    "df_analysis1 = df_analysis[['CONTROL','FIRST_GEN']]"
   ]
  },
  {
   "cell_type": "code",
   "execution_count": 21,
   "metadata": {},
   "outputs": [
    {
     "data": {
      "text/plain": [
       "CONTROL        0\n",
       "FIRST_GEN    218\n",
       "dtype: int64"
      ]
     },
     "execution_count": 21,
     "metadata": {},
     "output_type": "execute_result"
    }
   ],
   "source": [
    "df_analysis1.isnull().sum()"
   ]
  },
  {
   "cell_type": "code",
   "execution_count": 22,
   "metadata": {},
   "outputs": [
    {
     "data": {
      "text/html": [
       "<div>\n",
       "<style>\n",
       "    .dataframe thead tr:only-child th {\n",
       "        text-align: right;\n",
       "    }\n",
       "\n",
       "    .dataframe thead th {\n",
       "        text-align: left;\n",
       "    }\n",
       "\n",
       "    .dataframe tbody tr th {\n",
       "        vertical-align: top;\n",
       "    }\n",
       "</style>\n",
       "<table border=\"1\" class=\"dataframe\">\n",
       "  <thead>\n",
       "    <tr style=\"text-align: right;\">\n",
       "      <th></th>\n",
       "      <th>CONTROL</th>\n",
       "      <th>FIRST_GEN</th>\n",
       "    </tr>\n",
       "  </thead>\n",
       "  <tbody>\n",
       "    <tr>\n",
       "      <th>0</th>\n",
       "      <td>1</td>\n",
       "      <td>0.3887357227</td>\n",
       "    </tr>\n",
       "    <tr>\n",
       "      <th>1</th>\n",
       "      <td>1</td>\n",
       "      <td>0.3564593301</td>\n",
       "    </tr>\n",
       "    <tr>\n",
       "      <th>2</th>\n",
       "      <td>2</td>\n",
       "      <td>0.5285714286</td>\n",
       "    </tr>\n",
       "    <tr>\n",
       "      <th>3</th>\n",
       "      <td>1</td>\n",
       "      <td>0.3137931034</td>\n",
       "    </tr>\n",
       "    <tr>\n",
       "      <th>4</th>\n",
       "      <td>1</td>\n",
       "      <td>0.369258754</td>\n",
       "    </tr>\n",
       "  </tbody>\n",
       "</table>\n",
       "</div>"
      ],
      "text/plain": [
       "   CONTROL     FIRST_GEN\n",
       "0        1  0.3887357227\n",
       "1        1  0.3564593301\n",
       "2        2  0.5285714286\n",
       "3        1  0.3137931034\n",
       "4        1   0.369258754"
      ]
     },
     "execution_count": 22,
     "metadata": {},
     "output_type": "execute_result"
    }
   ],
   "source": [
    "df_analysis1.head()"
   ]
  },
  {
   "cell_type": "code",
   "execution_count": 23,
   "metadata": {},
   "outputs": [
    {
     "name": "stderr",
     "output_type": "stream",
     "text": [
      "/anaconda/lib/python3.6/site-packages/ipykernel_launcher.py:1: SettingWithCopyWarning: \n",
      "A value is trying to be set on a copy of a slice from a DataFrame\n",
      "\n",
      "See the caveats in the documentation: http://pandas.pydata.org/pandas-docs/stable/indexing.html#indexing-view-versus-copy\n",
      "  \"\"\"Entry point for launching an IPython kernel.\n",
      "/anaconda/lib/python3.6/site-packages/pandas/core/generic.py:5088: SettingWithCopyWarning: \n",
      "A value is trying to be set on a copy of a slice from a DataFrame\n",
      "\n",
      "See the caveats in the documentation: http://pandas.pydata.org/pandas-docs/stable/indexing.html#indexing-view-versus-copy\n",
      "  self._update_inplace(new_data)\n",
      "/anaconda/lib/python3.6/site-packages/IPython/core/interactiveshell.py:2881: SettingWithCopyWarning: \n",
      "A value is trying to be set on a copy of a slice from a DataFrame\n",
      "\n",
      "See the caveats in the documentation: http://pandas.pydata.org/pandas-docs/stable/indexing.html#indexing-view-versus-copy\n",
      "  exec(code_obj, self.user_global_ns, self.user_ns)\n"
     ]
    }
   ],
   "source": [
    "df_analysis1['FIRST_GEN'][df_analysis1['FIRST_GEN'].isnull()] = 0"
   ]
  },
  {
   "cell_type": "code",
   "execution_count": 24,
   "metadata": {},
   "outputs": [
    {
     "data": {
      "text/plain": [
       "CONTROL      0\n",
       "FIRST_GEN    0\n",
       "dtype: int64"
      ]
     },
     "execution_count": 24,
     "metadata": {},
     "output_type": "execute_result"
    }
   ],
   "source": [
    "df_analysis1.isnull().sum()"
   ]
  },
  {
   "cell_type": "code",
   "execution_count": 25,
   "metadata": {},
   "outputs": [],
   "source": [
    "df_analysis1 = df_analysis1[df_analysis1['FIRST_GEN']!=0]"
   ]
  },
  {
   "cell_type": "code",
   "execution_count": 26,
   "metadata": {},
   "outputs": [
    {
     "data": {
      "text/plain": [
       "CONTROL      0\n",
       "FIRST_GEN    0\n",
       "dtype: int64"
      ]
     },
     "execution_count": 26,
     "metadata": {},
     "output_type": "execute_result"
    }
   ],
   "source": [
    "df_analysis1.isnull().sum()"
   ]
  },
  {
   "cell_type": "code",
   "execution_count": 27,
   "metadata": {},
   "outputs": [
    {
     "data": {
      "text/html": [
       "<div>\n",
       "<style>\n",
       "    .dataframe thead tr:only-child th {\n",
       "        text-align: right;\n",
       "    }\n",
       "\n",
       "    .dataframe thead th {\n",
       "        text-align: left;\n",
       "    }\n",
       "\n",
       "    .dataframe tbody tr th {\n",
       "        vertical-align: top;\n",
       "    }\n",
       "</style>\n",
       "<table border=\"1\" class=\"dataframe\">\n",
       "  <thead>\n",
       "    <tr style=\"text-align: right;\">\n",
       "      <th></th>\n",
       "      <th>CONTROL</th>\n",
       "      <th>FIRST_GEN</th>\n",
       "    </tr>\n",
       "  </thead>\n",
       "  <tbody>\n",
       "    <tr>\n",
       "      <th>0</th>\n",
       "      <td>1</td>\n",
       "      <td>0.3887357227</td>\n",
       "    </tr>\n",
       "    <tr>\n",
       "      <th>1</th>\n",
       "      <td>1</td>\n",
       "      <td>0.3564593301</td>\n",
       "    </tr>\n",
       "    <tr>\n",
       "      <th>2</th>\n",
       "      <td>2</td>\n",
       "      <td>0.5285714286</td>\n",
       "    </tr>\n",
       "    <tr>\n",
       "      <th>3</th>\n",
       "      <td>1</td>\n",
       "      <td>0.3137931034</td>\n",
       "    </tr>\n",
       "    <tr>\n",
       "      <th>4</th>\n",
       "      <td>1</td>\n",
       "      <td>0.369258754</td>\n",
       "    </tr>\n",
       "  </tbody>\n",
       "</table>\n",
       "</div>"
      ],
      "text/plain": [
       "   CONTROL     FIRST_GEN\n",
       "0        1  0.3887357227\n",
       "1        1  0.3564593301\n",
       "2        2  0.5285714286\n",
       "3        1  0.3137931034\n",
       "4        1   0.369258754"
      ]
     },
     "execution_count": 27,
     "metadata": {},
     "output_type": "execute_result"
    }
   ],
   "source": [
    "df_analysis1.head()"
   ]
  },
  {
   "cell_type": "code",
   "execution_count": 34,
   "metadata": {
    "collapsed": true
   },
   "outputs": [],
   "source": [
    "df_analysis1 = df_analysis1[df_analysis1['FIRST_GEN']!='PrivacySuppressed']"
   ]
  },
  {
   "cell_type": "code",
   "execution_count": 35,
   "metadata": {
    "collapsed": true
   },
   "outputs": [],
   "source": [
    "x= df_analysis1['CONTROL']\n",
    "y= df_analysis1['FIRST_GEN']"
   ]
  },
  {
   "cell_type": "code",
   "execution_count": 36,
   "metadata": {},
   "outputs": [
    {
     "data": {
      "text/plain": [
       "<matplotlib.collections.PathCollection at 0x1193c4630>"
      ]
     },
     "execution_count": 36,
     "metadata": {},
     "output_type": "execute_result"
    }
   ],
   "source": [
    "plt.scatter(x,y)"
   ]
  },
  {
   "cell_type": "code",
   "execution_count": 37,
   "metadata": {},
   "outputs": [
    {
     "data": {
      "image/png": "[encoded data removed]",
      "text/plain": [
       "<matplotlib.figure.Figure at 0x11de1e128>"
      ]
     },
     "metadata": {},
     "output_type": "display_data"
    }
   ],
   "source": [
    "plt.title(\"Share of First-Generation Students in Publicly & Privately Owned Institutions\")\n",
    "plt.xlabel(\"Control of Institution |1 = Public, 2 = Private Non-profit, 3 = Private For-Profit\")\n",
    "plt.ylabel(\"x100 % of First-Generation Students\")\n",
    "plt.show()"
   ]
  },
  {
   "cell_type": "code",
   "execution_count": null,
   "metadata": {
    "collapsed": true
   },
   "outputs": [],
   "source": []
  },
  {
   "cell_type": "code",
   "execution_count": null,
   "metadata": {
    "collapsed": true
   },
   "outputs": [],
   "source": []
  }
 ],
 "metadata": {
  "kernelspec": {
   "display_name": "Python 3",
   "language": "python",
   "name": "python3"
  },
  "language_info": {
   "codemirror_mode": {
    "name": "ipython",
    "version": 3
   },
   "file_extension": ".py",
   "mimetype": "text/x-python",
   "name": "python",
   "nbconvert_exporter": "python",
   "pygments_lexer": "ipython3",
   "version": "3.6.1"
  }
 },
 "nbformat": 4,
 "nbformat_minor": 2
}
