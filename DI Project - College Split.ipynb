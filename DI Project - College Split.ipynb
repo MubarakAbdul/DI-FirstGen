{
 "cells": [
  {
   "cell_type": "code",
   "execution_count": 2,
   "metadata": {
    "collapsed": true
   },
   "outputs": [],
   "source": [
    "import numpy as np\n",
    "import pandas as pd\n",
    "import matplotlib.pyplot as plt\n",
    "%matplotlib inline\n",
    "import sqlite3\n",
    "import datetime as dt"
   ]
  },
  {
   "cell_type": "code",
   "execution_count": 3,
   "metadata": {
    "collapsed": true
   },
   "outputs": [],
   "source": [
    "# Remove warnings\n",
    "import warnings\n",
    "warnings.filterwarnings('ignore')"
   ]
  },
  {
   "cell_type": "code",
   "execution_count": 3,
   "metadata": {},
   "outputs": [
    {
     "name": "stdout",
     "output_type": "stream",
     "text": [
      "/Users/Mubarak/Documents/GitHub/DI Project/FirstGen\r\n"
     ]
    }
   ],
   "source": [
    "!pwd"
   ]
  },
  {
   "cell_type": "code",
   "execution_count": 4,
   "metadata": {},
   "outputs": [
    {
     "name": "stdout",
     "output_type": "stream",
     "text": [
      "311_NYC.csv                         \u001b[31mMERGED2003_04_PP.csv\u001b[m\u001b[m\r\n",
      "CollegeScorecardDataDictionary.xlsx \u001b[31mMERGED2004_05_PP.csv\u001b[m\u001b[m\r\n",
      "\u001b[34mCrosswalks_20170806\u001b[m\u001b[m                 \u001b[31mMERGED2005_06_PP.csv\u001b[m\u001b[m\r\n",
      "DI Project - Final-Copy1.ipynb      \u001b[31mMERGED2006_07_PP.csv\u001b[m\u001b[m\r\n",
      "DI Project - Final.ipynb            \u001b[31mMERGED2007_08_PP.csv\u001b[m\u001b[m\r\n",
      "\u001b[31mDI Project_Old.ipynb\u001b[m\u001b[m                \u001b[31mMERGED2008_09_PP.csv\u001b[m\u001b[m\r\n",
      "\u001b[31mFirst Plot\u001b[m\u001b[m                          \u001b[31mMERGED2009_10_PP.csv\u001b[m\u001b[m\r\n",
      "\u001b[31mFirstGen - Plot 1.ipynb\u001b[m\u001b[m             \u001b[31mMERGED2010_11_PP.csv\u001b[m\u001b[m\r\n",
      "\u001b[31mFirstGen - Plot 2.ipynb\u001b[m\u001b[m             \u001b[31mMERGED2011_12_PP.csv\u001b[m\u001b[m\r\n",
      "\u001b[31mMERGED1996_97_PP.csv\u001b[m\u001b[m                \u001b[31mMERGED2012_13_PP.csv\u001b[m\u001b[m\r\n",
      "\u001b[31mMERGED1997_98_PP.csv\u001b[m\u001b[m                \u001b[31mMERGED2013_14_PP.csv\u001b[m\u001b[m\r\n",
      "\u001b[31mMERGED1998_99_PP.csv\u001b[m\u001b[m                \u001b[31mMERGED2014_15_PP.csv\u001b[m\u001b[m\r\n",
      "\u001b[31mMERGED1999_00_PP.csv\u001b[m\u001b[m                \u001b[31mMERGED2015_16_PP.csv\u001b[m\u001b[m\r\n",
      "\u001b[31mMERGED2000_01_PP.csv\u001b[m\u001b[m                Untitled.ipynb\r\n",
      "\u001b[31mMERGED2001_02_PP.csv\u001b[m\u001b[m                firstgen.db\r\n",
      "\u001b[31mMERGED2002_03_PP.csv\u001b[m\u001b[m                firstgenCOMPLETE.db\r\n"
     ]
    }
   ],
   "source": [
    "!ls"
   ]
  },
  {
   "cell_type": "code",
   "execution_count": 6,
   "metadata": {},
   "outputs": [
    {
     "name": "stdout",
     "output_type": "stream",
     "text": [
      "    6795 MERGED1996_97_PP.csv\r\n"
     ]
    }
   ],
   "source": [
    "!wc -l MERGED1996_97_PP.csv"
   ]
  },
  {
   "cell_type": "code",
   "execution_count": 4,
   "metadata": {
    "collapsed": true
   },
   "outputs": [],
   "source": [
    "connection = sqlite3.connect('firstgen.db')"
   ]
  },
  {
   "cell_type": "code",
   "execution_count": 5,
   "metadata": {
    "collapsed": true
   },
   "outputs": [],
   "source": [
    "cursor = connection.cursor()"
   ]
  },
  {
   "cell_type": "code",
   "execution_count": 16,
   "metadata": {
    "collapsed": true
   },
   "outputs": [],
   "source": [
    "files = ('MERGED1996_97_PP.csv','MERGED1997_98_PP.csv','MERGED1998_99_PP.csv','MERGED1999_00_PP.csv',\n",
    "         'MERGED2000_01_PP.csv','MERGED2001_02_PP.csv','MERGED2002_03_PP.csv','MERGED2003_04_PP.csv',\n",
    "         'MERGED2004_05_PP.csv','MERGED2005_06_PP.csv','MERGED2006_07_PP.csv','MERGED2007_08_PP.csv',\n",
    "         'MERGED2008_09_PP.csv','MERGED2009_10_PP.csv','MERGED2010_11_PP.csv','MERGED2011_12_PP.csv',\n",
    "         'MERGED2012_13_PP.csv','MERGED2013_14_PP.csv','MERGED2014_15_PP.csv','MERGED2015_16_PP.csv')\n",
    "         "
   ]
  },
  {
   "cell_type": "code",
   "execution_count": 17,
   "metadata": {},
   "outputs": [
    {
     "name": "stdout",
     "output_type": "stream",
     "text": [
      "29 seconds: completed 5000 rows\n",
      "40 seconds: completed 10000 rows\n",
      "1 files uploaded\n",
      "33 seconds: completed 5000 rows\n",
      "46 seconds: completed 10000 rows\n",
      "2 files uploaded\n",
      "40 seconds: completed 5000 rows\n",
      "53 seconds: completed 10000 rows\n",
      "3 files uploaded\n",
      "43 seconds: completed 5000 rows\n",
      "56 seconds: completed 10000 rows\n",
      "4 files uploaded\n",
      "49 seconds: completed 5000 rows\n",
      "64 seconds: completed 10000 rows\n",
      "5 files uploaded\n",
      "49 seconds: completed 5000 rows\n",
      "66 seconds: completed 10000 rows\n",
      "6 files uploaded\n",
      "56 seconds: completed 5000 rows\n",
      "75 seconds: completed 10000 rows\n",
      "7 files uploaded\n",
      "62 seconds: completed 5000 rows\n",
      "84 seconds: completed 10000 rows\n",
      "8 files uploaded\n",
      "61 seconds: completed 5000 rows\n",
      "82 seconds: completed 10000 rows\n",
      "9 files uploaded\n",
      "68 seconds: completed 5000 rows\n",
      "93 seconds: completed 10000 rows\n",
      "10 files uploaded\n",
      "66 seconds: completed 5000 rows\n",
      "92 seconds: completed 10000 rows\n",
      "11 files uploaded\n",
      "69 seconds: completed 5000 rows\n",
      "96 seconds: completed 10000 rows\n",
      "12 files uploaded\n",
      "72 seconds: completed 5000 rows\n",
      "100 seconds: completed 10000 rows\n",
      "13 files uploaded\n",
      "75 seconds: completed 5000 rows\n",
      "106 seconds: completed 10000 rows\n",
      "14 files uploaded\n",
      "126 seconds: completed 5000 rows\n",
      "191 seconds: completed 10000 rows\n",
      "15 files uploaded\n",
      "139 seconds: completed 5000 rows\n",
      "213 seconds: completed 10000 rows\n",
      "16 files uploaded\n",
      "117 seconds: completed 5000 rows\n",
      "158 seconds: completed 10000 rows\n",
      "17 files uploaded\n",
      "82 seconds: completed 5000 rows\n",
      "124 seconds: completed 10000 rows\n",
      "18 files uploaded\n",
      "82 seconds: completed 5000 rows\n",
      "124 seconds: completed 10000 rows\n",
      "19 files uploaded\n",
      "50 seconds: completed 5000 rows\n",
      "76 seconds: completed 10000 rows\n",
      "20 files uploaded\n"
     ]
    }
   ],
   "source": [
    "for i,x in enumerate(files):  \n",
    "    start = dt.datetime.now()\n",
    "    chunksize = 5000\n",
    "    j = 0\n",
    "\n",
    "    for df in pd.read_csv(x, chunksize=chunksize):\n",
    "\n",
    "        df = df.rename(columns={c: c.replace(' ', '') for c in df.columns}) # Remove spaces from columns\n",
    "        j+=1\n",
    "        \n",
    "        # Columns to keep\n",
    "        columns = ['ACCREDAGENCY', 'INSTURL', 'NPCURL', 'HCM2', 'LOCALE', 'LOCALE2',\n",
    "       'LATITUDE', 'LONGITUDE', 'CCBASIC', 'CCUGPROF', 'CCSIZSET', 'HBCU',\n",
    "       'PBI', 'ANNHI', 'TRIBAL', 'AANAPII', 'HSI', 'NANTI', 'MENONLY',\n",
    "       'WOMENONLY', 'RELAFFIL', 'ADM_RATE', 'ADM_RATE_ALL', 'SATVR25',\n",
    "       'SATVR75', 'SATMT25', 'SATMT75', 'SATWR25', 'SATWR75', 'SATVRMID',\n",
    "       'SATMTMID', 'SATWRMID', 'ACTCM25', 'ACTCM75', 'ACTEN25', 'ACTEN75',\n",
    "       'ACTMT25', 'ACTMT75', 'ACTWR25', 'ACTWR75', 'ACTCMMID', 'ACTENMID',\n",
    "       'ACTMTMID', 'ACTWRMID', 'SAT_AVG', 'SAT_AVG_ALL', 'DISTANCEONLY', 'UG',\n",
    "       'UGDS_WHITE', 'UGDS_BLACK', 'UGDS_HISP', 'UGDS_ASIAN', 'UGDS_AIAN',\n",
    "       'UGDS_NHPI', 'UGDS_2MOR', 'UGDS_WHITENH', 'UGDS_BLACKNH', 'UGDS_API',\n",
    "       'UGDS_AIANOLD', 'UGDS_HISPOLD', 'UG_NRA', 'UG_UNKN', 'UG_WHITENH',\n",
    "       'UG_BLACKNH', 'UG_API', 'UG_AIANOLD', 'UG_HISPOLD', 'PPTUG_EF2',\n",
    "       'CURROPER', 'NPT4_PUB', 'NPT4_PRIV', 'NPT4_PROG', 'NPT4_OTHER',\n",
    "       'NPT41_PUB', 'NPT42_PUB', 'NPT43_PUB', 'NPT44_PUB', 'NPT45_PUB',\n",
    "       'NPT41_PRIV', 'NPT42_PRIV', 'NPT43_PRIV', 'NPT44_PRIV', 'NPT45_PRIV',\n",
    "       'NPT41_PROG', 'NPT42_PROG', 'NPT43_PROG', 'NPT44_PROG', 'NPT45_PROG',\n",
    "       'NPT41_OTHER', 'NPT42_OTHER', 'NPT43_OTHER', 'NPT44_OTHER',\n",
    "       'NPT45_OTHER', 'NPT4_048_PUB', 'NPT4_048_PRIV', 'NPT4_048_PROG',\n",
    "       'NPT4_048_OTHER', 'NPT4_3075_PUB', 'NPT4_3075_PRIV', 'NPT4_75UP_PUB',\n",
    "       'NPT4_75UP_PRIV', 'NPT4_3075_PROG', 'NPT4_3075_OTHER', 'NPT4_75UP_PROG',\n",
    "       'NPT4_75UP_OTHER', 'NUM4_PUB', 'NUM4_PRIV', 'NUM4_PROG', 'NUM4_OTHER',\n",
    "       'NUM41_PUB', 'NUM42_PUB', 'NUM43_PUB', 'NUM44_PUB', 'NUM45_PUB',\n",
    "       'NUM41_PRIV', 'NUM42_PRIV', 'NUM43_PRIV', 'NUM44_PRIV', 'NUM45_PRIV',\n",
    "       'NUM41_PROG', 'NUM42_PROG', 'NUM43_PROG', 'NUM44_PROG', 'NUM45_PROG',\n",
    "       'NUM41_OTHER', 'NUM42_OTHER', 'NUM43_OTHER', 'NUM44_OTHER',\n",
    "       'NUM45_OTHER', 'COSTT4_A', 'COSTT4_P', 'TUITIONFEE_IN',\n",
    "       'TUITIONFEE_OUT', 'TUITIONFEE_PROG', 'AVGFACSAL', 'PFTFAC', 'PCTPELL',\n",
    "       'C150_4', 'C150_L4', 'C150_4_POOLED', 'C150_L4_POOLED', 'POOLYRS',\n",
    "       'PFTFTUG1_EF', 'D150_4', 'D150_L4', 'D150_4_POOLED', 'D150_L4_POOLED',\n",
    "       'C150_4_WHITE', 'C150_4_BLACK', 'C150_4_HISP', 'C150_4_ASIAN',\n",
    "       'C150_4_AIAN', 'C150_4_NHPI', 'C150_4_2MOR', 'C150_4_NRA',\n",
    "       'C150_4_UNKN', 'C150_4_WHITENH', 'C150_4_BLACKNH', 'C150_4_API',\n",
    "       'C150_4_AIANOLD', 'C150_4_HISPOLD', 'C150_L4_WHITE', 'C150_L4_BLACK',\n",
    "       'C150_L4_HISP', 'C150_L4_ASIAN', 'C150_L4_AIAN', 'C150_L4_NHPI',\n",
    "       'C150_L4_2MOR', 'C150_L4_NRA', 'C150_L4_UNKN', 'C150_L4_WHITENH',\n",
    "       'C150_L4_BLACKNH', 'C150_L4_API', 'C150_L4_AIANOLD', 'C150_L4_HISPOLD',\n",
    "       'C200_4', 'C200_L4', 'D200_4', 'D200_L4', 'RET_FT4', 'RET_FTL4',\n",
    "       'RET_PT4', 'RET_PTL4', 'C200_4_POOLED', 'C200_L4_POOLED', 'POOLYRS200',\n",
    "       'D200_4_POOLED', 'D200_L4_POOLED', 'PCTFLOAN', 'UG25ABV', 'CDR3',\n",
    "       'DEATH_YR6_RT', 'COMP_ORIG_YR6_RT', 'COMP_4YR_TRANS_YR6_RT',\n",
    "       'COMP_2YR_TRANS_YR6_RT', 'WDRAW_ORIG_YR6_RT', 'WDRAW_4YR_TRANS_YR6_RT',\n",
    "       'WDRAW_2YR_TRANS_YR6_RT', 'ENRL_ORIG_YR6_RT', 'ENRL_4YR_TRANS_YR6_RT',\n",
    "       'ENRL_2YR_TRANS_YR6_RT', 'UNKN_ORIG_YR6_RT', 'UNKN_4YR_TRANS_YR6_RT',\n",
    "       'UNKN_2YR_TRANS_YR6_RT', 'LO_INC_DEATH_YR6_RT',\n",
    "       'LO_INC_COMP_ORIG_YR6_RT', 'LO_INC_COMP_4YR_TRANS_YR6_RT',\n",
    "       'LO_INC_COMP_2YR_TRANS_YR6_RT', 'LO_INC_WDRAW_ORIG_YR6_RT',\n",
    "       'LO_INC_WDRAW_4YR_TRANS_YR6_RT', 'LO_INC_WDRAW_2YR_TRANS_YR6_RT',\n",
    "       'LO_INC_ENRL_ORIG_YR6_RT', 'LO_INC_ENRL_4YR_TRANS_YR6_RT',\n",
    "       'LO_INC_ENRL_2YR_TRANS_YR6_RT', 'LO_INC_UNKN_ORIG_YR6_RT',\n",
    "       'LO_INC_UNKN_4YR_TRANS_YR6_RT', 'LO_INC_UNKN_2YR_TRANS_YR6_RT',\n",
    "       'MD_INC_DEATH_YR6_RT', 'MD_INC_COMP_ORIG_YR6_RT',\n",
    "       'MD_INC_COMP_4YR_TRANS_YR6_RT', 'MD_INC_COMP_2YR_TRANS_YR6_RT',\n",
    "       'MD_INC_WDRAW_ORIG_YR6_RT', 'MD_INC_WDRAW_4YR_TRANS_YR6_RT',\n",
    "       'MD_INC_WDRAW_2YR_TRANS_YR6_RT', 'MD_INC_ENRL_ORIG_YR6_RT',\n",
    "       'MD_INC_ENRL_4YR_TRANS_YR6_RT', 'MD_INC_ENRL_2YR_TRANS_YR6_RT',\n",
    "       'MD_INC_UNKN_ORIG_YR6_RT', 'MD_INC_UNKN_4YR_TRANS_YR6_RT',\n",
    "       'MD_INC_UNKN_2YR_TRANS_YR6_RT', 'HI_INC_DEATH_YR6_RT',\n",
    "       'HI_INC_COMP_ORIG_YR6_RT', 'HI_INC_COMP_4YR_TRANS_YR6_RT',\n",
    "       'HI_INC_COMP_2YR_TRANS_YR6_RT', 'HI_INC_WDRAW_ORIG_YR6_RT',\n",
    "       'HI_INC_WDRAW_4YR_TRANS_YR6_RT', 'HI_INC_WDRAW_2YR_TRANS_YR6_RT',\n",
    "       'HI_INC_ENRL_ORIG_YR6_RT', 'HI_INC_ENRL_4YR_TRANS_YR6_RT',\n",
    "       'HI_INC_ENRL_2YR_TRANS_YR6_RT', 'HI_INC_UNKN_ORIG_YR6_RT',\n",
    "       'HI_INC_UNKN_4YR_TRANS_YR6_RT', 'HI_INC_UNKN_2YR_TRANS_YR6_RT',\n",
    "       'DEP_DEATH_YR6_RT', 'DEP_COMP_ORIG_YR6_RT', 'DEP_COMP_4YR_TRANS_YR6_RT',\n",
    "       'DEP_COMP_2YR_TRANS_YR6_RT', 'DEP_WDRAW_ORIG_YR6_RT',\n",
    "       'DEP_WDRAW_4YR_TRANS_YR6_RT', 'DEP_WDRAW_2YR_TRANS_YR6_RT',\n",
    "       'DEP_ENRL_ORIG_YR6_RT', 'DEP_ENRL_4YR_TRANS_YR6_RT',\n",
    "       'DEP_ENRL_2YR_TRANS_YR6_RT', 'DEP_UNKN_ORIG_YR6_RT',\n",
    "       'DEP_UNKN_4YR_TRANS_YR6_RT', 'DEP_UNKN_2YR_TRANS_YR6_RT',\n",
    "       'IND_DEATH_YR6_RT', 'IND_COMP_ORIG_YR6_RT', 'IND_COMP_4YR_TRANS_YR6_RT',\n",
    "       'IND_COMP_2YR_TRANS_YR6_RT', 'IND_WDRAW_ORIG_YR6_RT',\n",
    "       'IND_WDRAW_4YR_TRANS_YR6_RT', 'IND_WDRAW_2YR_TRANS_YR6_RT',\n",
    "       'IND_ENRL_ORIG_YR6_RT', 'IND_ENRL_4YR_TRANS_YR6_RT',\n",
    "       'IND_ENRL_2YR_TRANS_YR6_RT', 'IND_UNKN_ORIG_YR6_RT',\n",
    "       'IND_UNKN_4YR_TRANS_YR6_RT', 'IND_UNKN_2YR_TRANS_YR6_RT',\n",
    "       'FEMALE_DEATH_YR6_RT', 'FEMALE_COMP_ORIG_YR6_RT',\n",
    "       'FEMALE_COMP_4YR_TRANS_YR6_RT', 'FEMALE_COMP_2YR_TRANS_YR6_RT',\n",
    "       'FEMALE_WDRAW_ORIG_YR6_RT', 'FEMALE_WDRAW_4YR_TRANS_YR6_RT',\n",
    "       'FEMALE_WDRAW_2YR_TRANS_YR6_RT', 'FEMALE_ENRL_ORIG_YR6_RT',\n",
    "       'FEMALE_ENRL_4YR_TRANS_YR6_RT', 'FEMALE_ENRL_2YR_TRANS_YR6_RT',\n",
    "       'FEMALE_UNKN_ORIG_YR6_RT', 'FEMALE_UNKN_4YR_TRANS_YR6_RT',\n",
    "       'FEMALE_UNKN_2YR_TRANS_YR6_RT', 'MALE_DEATH_YR6_RT',\n",
    "       'MALE_COMP_ORIG_YR6_RT', 'MALE_COMP_4YR_TRANS_YR6_RT',\n",
    "       'MALE_COMP_2YR_TRANS_YR6_RT', 'MALE_WDRAW_ORIG_YR6_RT',\n",
    "       'MALE_WDRAW_4YR_TRANS_YR6_RT', 'MALE_WDRAW_2YR_TRANS_YR6_RT',\n",
    "       'MALE_ENRL_ORIG_YR6_RT', 'MALE_ENRL_4YR_TRANS_YR6_RT',\n",
    "       'MALE_ENRL_2YR_TRANS_YR6_RT', 'MALE_UNKN_ORIG_YR6_RT',\n",
    "       'MALE_UNKN_4YR_TRANS_YR6_RT', 'MALE_UNKN_2YR_TRANS_YR6_RT',\n",
    "       'PELL_DEATH_YR6_RT', 'PELL_COMP_ORIG_YR6_RT',\n",
    "       'PELL_COMP_4YR_TRANS_YR6_RT', 'PELL_COMP_2YR_TRANS_YR6_RT',\n",
    "       'PELL_WDRAW_ORIG_YR6_RT', 'PELL_WDRAW_4YR_TRANS_YR6_RT',\n",
    "       'PELL_WDRAW_2YR_TRANS_YR6_RT', 'PELL_ENRL_ORIG_YR6_RT',\n",
    "       'PELL_ENRL_4YR_TRANS_YR6_RT', 'PELL_ENRL_2YR_TRANS_YR6_RT',\n",
    "       'PELL_UNKN_ORIG_YR6_RT', 'PELL_UNKN_4YR_TRANS_YR6_RT',\n",
    "       'PELL_UNKN_2YR_TRANS_YR6_RT', 'NOPELL_DEATH_YR6_RT',\n",
    "       'NOPELL_COMP_ORIG_YR6_RT', 'NOPELL_COMP_4YR_TRANS_YR6_RT',\n",
    "       'NOPELL_COMP_2YR_TRANS_YR6_RT', 'NOPELL_WDRAW_ORIG_YR6_RT',\n",
    "       'NOPELL_WDRAW_4YR_TRANS_YR6_RT', 'NOPELL_WDRAW_2YR_TRANS_YR6_RT',\n",
    "       'NOPELL_ENRL_ORIG_YR6_RT', 'NOPELL_ENRL_4YR_TRANS_YR6_RT',\n",
    "       'NOPELL_ENRL_2YR_TRANS_YR6_RT', 'NOPELL_UNKN_ORIG_YR6_RT',\n",
    "       'NOPELL_UNKN_4YR_TRANS_YR6_RT', 'NOPELL_UNKN_2YR_TRANS_YR6_RT',\n",
    "       'LOAN_DEATH_YR6_RT', 'LOAN_COMP_ORIG_YR6_RT',\n",
    "       'LOAN_COMP_4YR_TRANS_YR6_RT', 'LOAN_COMP_2YR_TRANS_YR6_RT',\n",
    "       'LOAN_WDRAW_ORIG_YR6_RT', 'LOAN_WDRAW_4YR_TRANS_YR6_RT',\n",
    "       'LOAN_WDRAW_2YR_TRANS_YR6_RT', 'LOAN_ENRL_ORIG_YR6_RT',\n",
    "       'LOAN_ENRL_4YR_TRANS_YR6_RT', 'LOAN_ENRL_2YR_TRANS_YR6_RT',\n",
    "       'LOAN_UNKN_ORIG_YR6_RT', 'LOAN_UNKN_4YR_TRANS_YR6_RT',\n",
    "       'LOAN_UNKN_2YR_TRANS_YR6_RT', 'NOLOAN_DEATH_YR6_RT',\n",
    "       'NOLOAN_COMP_ORIG_YR6_RT', 'NOLOAN_COMP_4YR_TRANS_YR6_RT',\n",
    "       'NOLOAN_COMP_2YR_TRANS_YR6_RT', 'NOLOAN_WDRAW_ORIG_YR6_RT',\n",
    "       'NOLOAN_WDRAW_4YR_TRANS_YR6_RT', 'NOLOAN_WDRAW_2YR_TRANS_YR6_RT',\n",
    "       'NOLOAN_ENRL_ORIG_YR6_RT', 'NOLOAN_ENRL_4YR_TRANS_YR6_RT',\n",
    "       'NOLOAN_ENRL_2YR_TRANS_YR6_RT', 'NOLOAN_UNKN_ORIG_YR6_RT',\n",
    "       'NOLOAN_UNKN_4YR_TRANS_YR6_RT', 'NOLOAN_UNKN_2YR_TRANS_YR6_RT',\n",
    "       'FIRSTGEN_DEATH_YR6_RT', 'FIRSTGEN_COMP_ORIG_YR6_RT',\n",
    "       'FIRSTGEN_COMP_4YR_TRANS_YR6_RT', 'FIRSTGEN_COMP_2YR_TRANS_YR6_RT',\n",
    "       'FIRSTGEN_WDRAW_ORIG_YR6_RT', 'FIRSTGEN_WDRAW_4YR_TRANS_YR6_RT',\n",
    "       'FIRSTGEN_WDRAW_2YR_TRANS_YR6_RT', 'FIRSTGEN_ENRL_ORIG_YR6_RT',\n",
    "       'FIRSTGEN_ENRL_4YR_TRANS_YR6_RT', 'FIRSTGEN_ENRL_2YR_TRANS_YR6_RT',\n",
    "       'FIRSTGEN_UNKN_ORIG_YR6_RT', 'FIRSTGEN_UNKN_4YR_TRANS_YR6_RT',\n",
    "       'FIRSTGEN_UNKN_2YR_TRANS_YR6_RT', 'NOT1STGEN_DEATH_YR6_RT',\n",
    "       'NOT1STGEN_COMP_ORIG_YR6_RT', 'NOT1STGEN_COMP_4YR_TRANS_YR6_RT',\n",
    "       'NOT1STGEN_COMP_2YR_TRANS_YR6_RT', 'NOT1STGEN_WDRAW_ORIG_YR6_RT',\n",
    "       'NOT1STGEN_WDRAW_4YR_TRANS_YR6_RT', 'NOT1STGEN_WDRAW_2YR_TRANS_YR6_RT',\n",
    "       'NOT1STGEN_ENRL_ORIG_YR6_RT', 'NOT1STGEN_ENRL_4YR_TRANS_YR6_RT',\n",
    "       'NOT1STGEN_ENRL_2YR_TRANS_YR6_RT', 'NOT1STGEN_UNKN_ORIG_YR6_RT',\n",
    "       'NOT1STGEN_UNKN_4YR_TRANS_YR6_RT', 'NOT1STGEN_UNKN_2YR_TRANS_YR6_RT',\n",
    "       'DEATH_YR8_RT', 'COMP_ORIG_YR8_RT', 'COMP_4YR_TRANS_YR8_RT',\n",
    "       'COMP_2YR_TRANS_YR8_RT', 'WDRAW_ORIG_YR8_RT', 'WDRAW_4YR_TRANS_YR8_RT',\n",
    "       'WDRAW_2YR_TRANS_YR8_RT', 'ENRL_ORIG_YR8_RT', 'ENRL_4YR_TRANS_YR8_RT',\n",
    "       'ENRL_2YR_TRANS_YR8_RT', 'UNKN_ORIG_YR8_RT', 'UNKN_4YR_TRANS_YR8_RT',\n",
    "       'UNKN_2YR_TRANS_YR8_RT', 'LO_INC_DEATH_YR8_RT',\n",
    "       'LO_INC_COMP_ORIG_YR8_RT', 'LO_INC_COMP_4YR_TRANS_YR8_RT',\n",
    "       'LO_INC_COMP_2YR_TRANS_YR8_RT', 'LO_INC_WDRAW_ORIG_YR8_RT',\n",
    "       'LO_INC_WDRAW_4YR_TRANS_YR8_RT', 'LO_INC_WDRAW_2YR_TRANS_YR8_RT',\n",
    "       'LO_INC_ENRL_ORIG_YR8_RT', 'LO_INC_ENRL_4YR_TRANS_YR8_RT',\n",
    "       'LO_INC_ENRL_2YR_TRANS_YR8_RT', 'LO_INC_UNKN_ORIG_YR8_RT',\n",
    "       'LO_INC_UNKN_4YR_TRANS_YR8_RT', 'LO_INC_UNKN_2YR_TRANS_YR8_RT',\n",
    "       'MD_INC_DEATH_YR8_RT', 'MD_INC_COMP_ORIG_YR8_RT',\n",
    "       'MD_INC_COMP_4YR_TRANS_YR8_RT', 'MD_INC_COMP_2YR_TRANS_YR8_RT',\n",
    "       'MD_INC_WDRAW_ORIG_YR8_RT', 'MD_INC_WDRAW_4YR_TRANS_YR8_RT',\n",
    "       'MD_INC_WDRAW_2YR_TRANS_YR8_RT', 'MD_INC_ENRL_ORIG_YR8_RT',\n",
    "       'MD_INC_ENRL_4YR_TRANS_YR8_RT', 'MD_INC_ENRL_2YR_TRANS_YR8_RT',\n",
    "       'MD_INC_UNKN_ORIG_YR8_RT', 'MD_INC_UNKN_4YR_TRANS_YR8_RT',\n",
    "       'MD_INC_UNKN_2YR_TRANS_YR8_RT', 'HI_INC_DEATH_YR8_RT',\n",
    "       'HI_INC_COMP_ORIG_YR8_RT', 'HI_INC_COMP_4YR_TRANS_YR8_RT',\n",
    "       'HI_INC_COMP_2YR_TRANS_YR8_RT', 'HI_INC_WDRAW_ORIG_YR8_RT',\n",
    "       'HI_INC_WDRAW_4YR_TRANS_YR8_RT', 'HI_INC_WDRAW_2YR_TRANS_YR8_RT',\n",
    "       'HI_INC_ENRL_ORIG_YR8_RT', 'HI_INC_ENRL_4YR_TRANS_YR8_RT',\n",
    "       'HI_INC_ENRL_2YR_TRANS_YR8_RT', 'HI_INC_UNKN_ORIG_YR8_RT',\n",
    "       'HI_INC_UNKN_4YR_TRANS_YR8_RT', 'HI_INC_UNKN_2YR_TRANS_YR8_RT',\n",
    "       'DEP_DEATH_YR8_RT', 'DEP_COMP_ORIG_YR8_RT', 'DEP_COMP_4YR_TRANS_YR8_RT',\n",
    "       'DEP_COMP_2YR_TRANS_YR8_RT', 'DEP_WDRAW_ORIG_YR8_RT',\n",
    "       'DEP_WDRAW_4YR_TRANS_YR8_RT', 'DEP_WDRAW_2YR_TRANS_YR8_RT',\n",
    "       'DEP_ENRL_ORIG_YR8_RT', 'DEP_ENRL_4YR_TRANS_YR8_RT',\n",
    "       'DEP_ENRL_2YR_TRANS_YR8_RT', 'DEP_UNKN_ORIG_YR8_RT',\n",
    "       'DEP_UNKN_4YR_TRANS_YR8_RT', 'DEP_UNKN_2YR_TRANS_YR8_RT',\n",
    "       'IND_DEATH_YR8_RT', 'IND_COMP_ORIG_YR8_RT', 'IND_COMP_4YR_TRANS_YR8_RT',\n",
    "       'IND_COMP_2YR_TRANS_YR8_RT', 'IND_WDRAW_ORIG_YR8_RT',\n",
    "       'IND_WDRAW_4YR_TRANS_YR8_RT', 'IND_WDRAW_2YR_TRANS_YR8_RT',\n",
    "       'IND_ENRL_ORIG_YR8_RT', 'IND_ENRL_4YR_TRANS_YR8_RT',\n",
    "       'IND_ENRL_2YR_TRANS_YR8_RT', 'IND_UNKN_ORIG_YR8_RT',\n",
    "       'IND_UNKN_4YR_TRANS_YR8_RT', 'IND_UNKN_2YR_TRANS_YR8_RT',\n",
    "       'FEMALE_DEATH_YR8_RT', 'FEMALE_COMP_ORIG_YR8_RT',\n",
    "       'FEMALE_COMP_4YR_TRANS_YR8_RT', 'FEMALE_COMP_2YR_TRANS_YR8_RT',\n",
    "       'FEMALE_WDRAW_ORIG_YR8_RT', 'FEMALE_WDRAW_4YR_TRANS_YR8_RT',\n",
    "       'FEMALE_WDRAW_2YR_TRANS_YR8_RT', 'FEMALE_ENRL_ORIG_YR8_RT',\n",
    "       'FEMALE_ENRL_4YR_TRANS_YR8_RT', 'FEMALE_ENRL_2YR_TRANS_YR8_RT',\n",
    "       'FEMALE_UNKN_ORIG_YR8_RT', 'FEMALE_UNKN_4YR_TRANS_YR8_RT',\n",
    "       'FEMALE_UNKN_2YR_TRANS_YR8_RT', 'MALE_DEATH_YR8_RT',\n",
    "       'MALE_COMP_ORIG_YR8_RT', 'MALE_COMP_4YR_TRANS_YR8_RT',\n",
    "       'MALE_COMP_2YR_TRANS_YR8_RT', 'MALE_WDRAW_ORIG_YR8_RT',\n",
    "       'MALE_WDRAW_4YR_TRANS_YR8_RT', 'MALE_WDRAW_2YR_TRANS_YR8_RT',\n",
    "       'MALE_ENRL_ORIG_YR8_RT', 'MALE_ENRL_4YR_TRANS_YR8_RT',\n",
    "       'MALE_ENRL_2YR_TRANS_YR8_RT', 'MALE_UNKN_ORIG_YR8_RT',\n",
    "       'MALE_UNKN_4YR_TRANS_YR8_RT', 'MALE_UNKN_2YR_TRANS_YR8_RT',\n",
    "       'PELL_DEATH_YR8_RT', 'PELL_COMP_ORIG_YR8_RT',\n",
    "       'PELL_COMP_4YR_TRANS_YR8_RT', 'PELL_COMP_2YR_TRANS_YR8_RT',\n",
    "       'PELL_WDRAW_ORIG_YR8_RT', 'PELL_WDRAW_4YR_TRANS_YR8_RT',\n",
    "       'PELL_WDRAW_2YR_TRANS_YR8_RT', 'PELL_ENRL_ORIG_YR8_RT',\n",
    "       'PELL_ENRL_4YR_TRANS_YR8_RT', 'PELL_ENRL_2YR_TRANS_YR8_RT',\n",
    "       'PELL_UNKN_ORIG_YR8_RT', 'PELL_UNKN_4YR_TRANS_YR8_RT',\n",
    "       'PELL_UNKN_2YR_TRANS_YR8_RT', 'NOPELL_DEATH_YR8_RT',\n",
    "       'NOPELL_COMP_ORIG_YR8_RT', 'NOPELL_COMP_4YR_TRANS_YR8_RT',\n",
    "       'NOPELL_COMP_2YR_TRANS_YR8_RT', 'NOPELL_WDRAW_ORIG_YR8_RT',\n",
    "       'NOPELL_WDRAW_4YR_TRANS_YR8_RT', 'NOPELL_WDRAW_2YR_TRANS_YR8_RT',\n",
    "       'NOPELL_ENRL_ORIG_YR8_RT', 'NOPELL_ENRL_4YR_TRANS_YR8_RT',\n",
    "       'NOPELL_ENRL_2YR_TRANS_YR8_RT', 'NOPELL_UNKN_ORIG_YR8_RT',\n",
    "       'NOPELL_UNKN_4YR_TRANS_YR8_RT', 'NOPELL_UNKN_2YR_TRANS_YR8_RT',\n",
    "       'LOAN_DEATH_YR8_RT', 'LOAN_COMP_ORIG_YR8_RT',\n",
    "       'LOAN_COMP_4YR_TRANS_YR8_RT', 'LOAN_COMP_2YR_TRANS_YR8_RT',\n",
    "       'LOAN_WDRAW_ORIG_YR8_RT', 'LOAN_WDRAW_4YR_TRANS_YR8_RT',\n",
    "       'LOAN_WDRAW_2YR_TRANS_YR8_RT', 'LOAN_ENRL_ORIG_YR8_RT',\n",
    "       'LOAN_ENRL_4YR_TRANS_YR8_RT', 'LOAN_ENRL_2YR_TRANS_YR8_RT',\n",
    "       'LOAN_UNKN_ORIG_YR8_RT', 'LOAN_UNKN_4YR_TRANS_YR8_RT',\n",
    "       'LOAN_UNKN_2YR_TRANS_YR8_RT', 'NOLOAN_DEATH_YR8_RT',\n",
    "       'NOLOAN_COMP_ORIG_YR8_RT', 'NOLOAN_COMP_4YR_TRANS_YR8_RT',\n",
    "       'NOLOAN_COMP_2YR_TRANS_YR8_RT', 'NOLOAN_WDRAW_ORIG_YR8_RT',\n",
    "       'NOLOAN_WDRAW_4YR_TRANS_YR8_RT', 'NOLOAN_WDRAW_2YR_TRANS_YR8_RT',\n",
    "       'NOLOAN_ENRL_ORIG_YR8_RT', 'NOLOAN_ENRL_4YR_TRANS_YR8_RT',\n",
    "       'NOLOAN_ENRL_2YR_TRANS_YR8_RT', 'NOLOAN_UNKN_ORIG_YR8_RT',\n",
    "       'NOLOAN_UNKN_4YR_TRANS_YR8_RT', 'NOLOAN_UNKN_2YR_TRANS_YR8_RT',\n",
    "       'FIRSTGEN_DEATH_YR8_RT', 'FIRSTGEN_COMP_ORIG_YR8_RT',\n",
    "       'FIRSTGEN_COMP_4YR_TRANS_YR8_RT', 'FIRSTGEN_COMP_2YR_TRANS_YR8_RT',\n",
    "       'FIRSTGEN_WDRAW_ORIG_YR8_RT', 'FIRSTGEN_WDRAW_4YR_TRANS_YR8_RT',\n",
    "       'FIRSTGEN_WDRAW_2YR_TRANS_YR8_RT', 'FIRSTGEN_ENRL_ORIG_YR8_RT',\n",
    "       'FIRSTGEN_ENRL_4YR_TRANS_YR8_RT', 'FIRSTGEN_ENRL_2YR_TRANS_YR8_RT',\n",
    "       'FIRSTGEN_UNKN_ORIG_YR8_RT', 'FIRSTGEN_UNKN_4YR_TRANS_YR8_RT',\n",
    "       'FIRSTGEN_UNKN_2YR_TRANS_YR8_RT', 'NOT1STGEN_DEATH_YR8_RT',\n",
    "       'NOT1STGEN_COMP_ORIG_YR8_RT', 'NOT1STGEN_COMP_4YR_TRANS_YR8_RT',\n",
    "       'NOT1STGEN_COMP_2YR_TRANS_YR8_RT', 'NOT1STGEN_WDRAW_ORIG_YR8_RT',\n",
    "       'NOT1STGEN_WDRAW_4YR_TRANS_YR8_RT', 'NOT1STGEN_WDRAW_2YR_TRANS_YR8_RT',\n",
    "       'NOT1STGEN_ENRL_ORIG_YR8_RT', 'NOT1STGEN_ENRL_4YR_TRANS_YR8_RT',\n",
    "       'NOT1STGEN_ENRL_2YR_TRANS_YR8_RT', 'NOT1STGEN_UNKN_ORIG_YR8_RT',\n",
    "       'NOT1STGEN_UNKN_4YR_TRANS_YR8_RT', 'NOT1STGEN_UNKN_2YR_TRANS_YR8_RT',\n",
    "       'RPY_1YR_RT', 'COMPL_RPY_1YR_RT', 'NONCOM_RPY_1YR_RT',\n",
    "       'LO_INC_RPY_1YR_RT', 'MD_INC_RPY_1YR_RT', 'HI_INC_RPY_1YR_RT',\n",
    "       'DEP_RPY_1YR_RT', 'IND_RPY_1YR_RT', 'PELL_RPY_1YR_RT',\n",
    "       'NOPELL_RPY_1YR_RT', 'FEMALE_RPY_1YR_RT', 'MALE_RPY_1YR_RT',\n",
    "       'FIRSTGEN_RPY_1YR_RT', 'NOTFIRSTGEN_RPY_1YR_RT', 'RPY_3YR_RT',\n",
    "       'COMPL_RPY_3YR_RT', 'NONCOM_RPY_3YR_RT', 'LO_INC_RPY_3YR_RT',\n",
    "       'MD_INC_RPY_3YR_RT', 'HI_INC_RPY_3YR_RT', 'DEP_RPY_3YR_RT',\n",
    "       'IND_RPY_3YR_RT', 'PELL_RPY_3YR_RT', 'NOPELL_RPY_3YR_RT',\n",
    "       'FEMALE_RPY_3YR_RT', 'MALE_RPY_3YR_RT', 'FIRSTGEN_RPY_3YR_RT',\n",
    "       'NOTFIRSTGEN_RPY_3YR_RT', 'RPY_5YR_RT', 'COMPL_RPY_5YR_RT',\n",
    "       'NONCOM_RPY_5YR_RT', 'LO_INC_RPY_5YR_RT', 'MD_INC_RPY_5YR_RT',\n",
    "       'HI_INC_RPY_5YR_RT', 'DEP_RPY_5YR_RT', 'IND_RPY_5YR_RT',\n",
    "       'PELL_RPY_5YR_RT', 'NOPELL_RPY_5YR_RT', 'FEMALE_RPY_5YR_RT',\n",
    "       'MALE_RPY_5YR_RT', 'FIRSTGEN_RPY_5YR_RT', 'NOTFIRSTGEN_RPY_5YR_RT',\n",
    "       'RPY_7YR_RT', 'COMPL_RPY_7YR_RT', 'NONCOM_RPY_7YR_RT',\n",
    "       'LO_INC_RPY_7YR_RT', 'MD_INC_RPY_7YR_RT', 'HI_INC_RPY_7YR_RT',\n",
    "       'DEP_RPY_7YR_RT', 'IND_RPY_7YR_RT', 'PELL_RPY_7YR_RT',\n",
    "       'NOPELL_RPY_7YR_RT', 'FEMALE_RPY_7YR_RT', 'MALE_RPY_7YR_RT',\n",
    "       'FIRSTGEN_RPY_7YR_RT', 'NOTFIRSTGEN_RPY_7YR_RT', 'OVERALL_YR6_N',\n",
    "       'LO_INC_YR6_N', 'MD_INC_YR6_N', 'HI_INC_YR6_N', 'DEP_YR6_N',\n",
    "       'IND_YR6_N', 'FEMALE_YR6_N', 'MALE_YR6_N', 'PELL_YR6_N', 'NOPELL_YR6_N',\n",
    "       'LOAN_YR6_N', 'NOLOAN_YR6_N', 'FIRSTGEN_YR6_N', 'NOT1STGEN_YR6_N',\n",
    "       'OVERALL_YR8_N', 'LO_INC_YR8_N', 'MD_INC_YR8_N', 'HI_INC_YR8_N',\n",
    "       'DEP_YR8_N', 'IND_YR8_N', 'FEMALE_YR8_N', 'MALE_YR8_N', 'PELL_YR8_N',\n",
    "       'NOPELL_YR8_N', 'LOAN_YR8_N', 'NOLOAN_YR8_N', 'FIRSTGEN_YR8_N',\n",
    "       'NOT1STGEN_YR8_N', 'GRAD_DEBT_MDN10YR', 'RPY_1YR_N', 'COMPL_RPY_1YR_N',\n",
    "       'NONCOM_RPY_1YR_N', 'LO_INC_RPY_1YR_N', 'MD_INC_RPY_1YR_N',\n",
    "       'HI_INC_RPY_1YR_N', 'DEP_RPY_1YR_N', 'IND_RPY_1YR_N', 'PELL_RPY_1YR_N',\n",
    "       'NOPELL_RPY_1YR_N', 'FEMALE_RPY_1YR_N', 'MALE_RPY_1YR_N',\n",
    "       'FIRSTGEN_RPY_1YR_N', 'NOTFIRSTGEN_RPY_1YR_N', 'RPY_3YR_N',\n",
    "       'COMPL_RPY_3YR_N', 'NONCOM_RPY_3YR_N', 'LO_INC_RPY_3YR_N',\n",
    "       'MD_INC_RPY_3YR_N', 'HI_INC_RPY_3YR_N', 'DEP_RPY_3YR_N',\n",
    "       'IND_RPY_3YR_N', 'PELL_RPY_3YR_N', 'NOPELL_RPY_3YR_N',\n",
    "       'FEMALE_RPY_3YR_N', 'MALE_RPY_3YR_N', 'FIRSTGEN_RPY_3YR_N',\n",
    "       'NOTFIRSTGEN_RPY_3YR_N', 'RPY_5YR_N', 'COMPL_RPY_5YR_N',\n",
    "       'NONCOM_RPY_5YR_N', 'LO_INC_RPY_5YR_N', 'MD_INC_RPY_5YR_N',\n",
    "       'HI_INC_RPY_5YR_N', 'DEP_RPY_5YR_N', 'IND_RPY_5YR_N', 'PELL_RPY_5YR_N',\n",
    "       'NOPELL_RPY_5YR_N', 'FEMALE_RPY_5YR_N', 'MALE_RPY_5YR_N',\n",
    "       'FIRSTGEN_RPY_5YR_N', 'NOTFIRSTGEN_RPY_5YR_N', 'RPY_7YR_N',\n",
    "       'COMPL_RPY_7YR_N', 'NONCOM_RPY_7YR_N', 'LO_INC_RPY_7YR_N',\n",
    "       'MD_INC_RPY_7YR_N', 'HI_INC_RPY_7YR_N', 'DEP_RPY_7YR_N',\n",
    "       'IND_RPY_7YR_N', 'PELL_RPY_7YR_N', 'NOPELL_RPY_7YR_N',\n",
    "       'FEMALE_RPY_7YR_N', 'MALE_RPY_7YR_N', 'FIRSTGEN_RPY_7YR_N',\n",
    "       'NOTFIRSTGEN_RPY_7YR_N', 'COUNT_ED', 'AGE_ENTRY_SQ', 'AGEGE24',\n",
    "       'LNFAMINC', 'LNFAMINC_IND', 'PCT_WHITE', 'PCT_BLACK', 'PCT_ASIAN',\n",
    "       'PCT_HISPANIC', 'PCT_BA', 'PCT_GRAD_PROF', 'PCT_BORN_US',\n",
    "       'MEDIAN_HH_INC', 'POVERTY_RATE', 'UNEMP_RATE', 'LN_MEDIAN_HH_INC',\n",
    "       'FSEND_COUNT', 'FSEND_1', 'FSEND_2', 'FSEND_3', 'FSEND_4', 'FSEND_5',\n",
    "       'COUNT_NWNE_P10', 'COUNT_WNE_P10', 'MN_EARN_WNE_P10', 'MD_EARN_WNE_P10',\n",
    "       'PCT10_EARN_WNE_P10', 'PCT25_EARN_WNE_P10', 'PCT75_EARN_WNE_P10',\n",
    "       'PCT90_EARN_WNE_P10', 'SD_EARN_WNE_P10', 'COUNT_WNE_INC1_P10',\n",
    "       'COUNT_WNE_INC2_P10', 'COUNT_WNE_INC3_P10', 'COUNT_WNE_INDEP0_INC1_P10',\n",
    "       'COUNT_WNE_INDEP0_P10', 'COUNT_WNE_INDEP1_P10', 'COUNT_WNE_MALE0_P10',\n",
    "       'COUNT_WNE_MALE1_P10', 'GT_25K_P10', 'MN_EARN_WNE_INC1_P10',\n",
    "       'MN_EARN_WNE_INC2_P10', 'MN_EARN_WNE_INC3_P10',\n",
    "       'MN_EARN_WNE_INDEP0_INC1_P10', 'MN_EARN_WNE_INDEP0_P10',\n",
    "       'MN_EARN_WNE_INDEP1_P10', 'MN_EARN_WNE_MALE0_P10',\n",
    "       'MN_EARN_WNE_MALE1_P10', 'COUNT_NWNE_P6', 'COUNT_WNE_P6',\n",
    "       'MN_EARN_WNE_P6', 'MD_EARN_WNE_P6', 'PCT10_EARN_WNE_P6',\n",
    "       'PCT25_EARN_WNE_P6', 'PCT75_EARN_WNE_P6', 'PCT90_EARN_WNE_P6',\n",
    "       'SD_EARN_WNE_P6', 'COUNT_WNE_INC1_P6', 'COUNT_WNE_INC2_P6',\n",
    "       'COUNT_WNE_INC3_P6', 'COUNT_WNE_INDEP0_INC1_P6', 'COUNT_WNE_INDEP0_P6',\n",
    "       'COUNT_WNE_INDEP1_P6', 'COUNT_WNE_MALE0_P6', 'COUNT_WNE_MALE1_P6',\n",
    "       'GT_25K_P6', 'MN_EARN_WNE_INC1_P6', 'MN_EARN_WNE_INC2_P6',\n",
    "       'MN_EARN_WNE_INC3_P6', 'MN_EARN_WNE_INDEP0_INC1_P6',\n",
    "       'MN_EARN_WNE_INDEP0_P6', 'MN_EARN_WNE_INDEP1_P6',\n",
    "       'MN_EARN_WNE_MALE0_P6', 'MN_EARN_WNE_MALE1_P6', 'COUNT_NWNE_P7',\n",
    "       'COUNT_WNE_P7', 'MN_EARN_WNE_P7', 'SD_EARN_WNE_P7', 'GT_25K_P7',\n",
    "       'COUNT_NWNE_P8', 'COUNT_WNE_P8', 'MN_EARN_WNE_P8', 'MD_EARN_WNE_P8',\n",
    "       'PCT10_EARN_WNE_P8', 'PCT25_EARN_WNE_P8', 'PCT75_EARN_WNE_P8',\n",
    "       'PCT90_EARN_WNE_P8', 'SD_EARN_WNE_P8', 'GT_25K_P8', 'COUNT_NWNE_P9',\n",
    "       'COUNT_WNE_P9', 'MN_EARN_WNE_P9', 'SD_EARN_WNE_P9', 'GT_25K_P9',\n",
    "       'GRAD_DEBT_MDN10YR_SUPP', 'RPY_3YR_RT_SUPP', 'LO_INC_RPY_3YR_RT_SUPP',\n",
    "       'MD_INC_RPY_3YR_RT_SUPP', 'HI_INC_RPY_3YR_RT_SUPP',\n",
    "       'COMPL_RPY_3YR_RT_SUPP', 'NONCOM_RPY_3YR_RT_SUPP',\n",
    "       'DEP_RPY_3YR_RT_SUPP', 'IND_RPY_3YR_RT_SUPP', 'PELL_RPY_3YR_RT_SUPP',\n",
    "       'NOPELL_RPY_3YR_RT_SUPP', 'FEMALE_RPY_3YR_RT_SUPP',\n",
    "       'MALE_RPY_3YR_RT_SUPP', 'FIRSTGEN_RPY_3YR_RT_SUPP',\n",
    "       'NOTFIRSTGEN_RPY_3YR_RT_SUPP', 'C150_L4_POOLED_SUPP',\n",
    "       'C150_4_POOLED_SUPP', 'C200_L4_POOLED_SUPP', 'C200_4_POOLED_SUPP',\n",
    "       'ALIAS', 'C100_4', 'D100_4', 'C100_L4', 'D100_L4', 'TRANS_4',\n",
    "       'DTRANS_4', 'TRANS_L4', 'DTRANS_L4', 'CDR3_DENOM', 'T4APPROVALDATE',\n",
    "       'D150_4_WHITE', 'D150_4_BLACK', 'D150_4_HISP', 'D150_4_ASIAN',\n",
    "       'D150_4_AIAN', 'D150_4_NHPI', 'D150_4_2MOR', 'D150_4_NRA',\n",
    "       'D150_4_UNKN', 'D150_4_WHITENH', 'D150_4_BLACKNH', 'D150_4_API',\n",
    "       'D150_4_AIANOLD', 'D150_4_HISPOLD', 'D150_L4_WHITE', 'D150_L4_BLACK',\n",
    "       'D150_L4_HISP', 'D150_L4_ASIAN', 'D150_L4_AIAN', 'D150_L4_NHPI',\n",
    "       'D150_L4_2MOR', 'D150_L4_NRA', 'D150_L4_UNKN', 'D150_L4_WHITENH',\n",
    "       'D150_L4_BLACKNH', 'D150_L4_API', 'D150_L4_AIANOLD', 'D150_L4_HISPOLD',\n",
    "       'D_PCTPELL_PCTFLOAN', 'UGNONDS', 'GRADS', 'ACCREDCODE']\n",
    "\n",
    "        for c in df.columns:\n",
    "            if c not in columns:\n",
    "                df = df.drop(c, axis=1)    \n",
    "\n",
    "\n",
    "        df.to_sql('data_c', connection, if_exists='append') # name of SQL table, connection, append\n",
    "\n",
    "\n",
    "        print('{} seconds: completed {} rows'.format((dt.datetime.now() - start).seconds, j*chunksize))\n",
    "    print(\"{} files uploaded\".format(i+1))"
   ]
  },
  {
   "cell_type": "code",
   "execution_count": 8,
   "metadata": {},
   "outputs": [
    {
     "data": {
      "text/html": [
       "<div>\n",
       "<style>\n",
       "    .dataframe thead tr:only-child th {\n",
       "        text-align: right;\n",
       "    }\n",
       "\n",
       "    .dataframe thead th {\n",
       "        text-align: left;\n",
       "    }\n",
       "\n",
       "    .dataframe tbody tr th {\n",
       "        vertical-align: top;\n",
       "    }\n",
       "</style>\n",
       "<table border=\"1\" class=\"dataframe\">\n",
       "  <thead>\n",
       "    <tr style=\"text-align: right;\">\n",
       "      <th></th>\n",
       "      <th>index</th>\n",
       "      <th>ACCREDAGENCY</th>\n",
       "      <th>INSTURL</th>\n",
       "      <th>NPCURL</th>\n",
       "      <th>HCM2</th>\n",
       "      <th>LOCALE</th>\n",
       "      <th>LOCALE2</th>\n",
       "      <th>LATITUDE</th>\n",
       "      <th>LONGITUDE</th>\n",
       "      <th>CCBASIC</th>\n",
       "      <th>...</th>\n",
       "      <th>D150_L4_UNKN</th>\n",
       "      <th>D150_L4_WHITENH</th>\n",
       "      <th>D150_L4_BLACKNH</th>\n",
       "      <th>D150_L4_API</th>\n",
       "      <th>D150_L4_AIANOLD</th>\n",
       "      <th>D150_L4_HISPOLD</th>\n",
       "      <th>D_PCTPELL_PCTFLOAN</th>\n",
       "      <th>UGNONDS</th>\n",
       "      <th>GRADS</th>\n",
       "      <th>ACCREDCODE</th>\n",
       "    </tr>\n",
       "  </thead>\n",
       "  <tbody>\n",
       "    <tr>\n",
       "      <th>0</th>\n",
       "      <td>0</td>\n",
       "      <td>None</td>\n",
       "      <td>None</td>\n",
       "      <td>None</td>\n",
       "      <td>None</td>\n",
       "      <td>None</td>\n",
       "      <td>None</td>\n",
       "      <td>None</td>\n",
       "      <td>None</td>\n",
       "      <td>None</td>\n",
       "      <td>...</td>\n",
       "      <td>None</td>\n",
       "      <td>None</td>\n",
       "      <td>None</td>\n",
       "      <td>None</td>\n",
       "      <td>None</td>\n",
       "      <td>None</td>\n",
       "      <td>None</td>\n",
       "      <td>18982.0</td>\n",
       "      <td>NaN</td>\n",
       "      <td>None</td>\n",
       "    </tr>\n",
       "    <tr>\n",
       "      <th>1</th>\n",
       "      <td>1</td>\n",
       "      <td>None</td>\n",
       "      <td>None</td>\n",
       "      <td>None</td>\n",
       "      <td>None</td>\n",
       "      <td>None</td>\n",
       "      <td>None</td>\n",
       "      <td>None</td>\n",
       "      <td>None</td>\n",
       "      <td>None</td>\n",
       "      <td>...</td>\n",
       "      <td>None</td>\n",
       "      <td>None</td>\n",
       "      <td>None</td>\n",
       "      <td>None</td>\n",
       "      <td>None</td>\n",
       "      <td>None</td>\n",
       "      <td>None</td>\n",
       "      <td>NaN</td>\n",
       "      <td>1038.0</td>\n",
       "      <td>None</td>\n",
       "    </tr>\n",
       "    <tr>\n",
       "      <th>2</th>\n",
       "      <td>2</td>\n",
       "      <td>None</td>\n",
       "      <td>None</td>\n",
       "      <td>None</td>\n",
       "      <td>None</td>\n",
       "      <td>None</td>\n",
       "      <td>None</td>\n",
       "      <td>None</td>\n",
       "      <td>None</td>\n",
       "      <td>None</td>\n",
       "      <td>...</td>\n",
       "      <td>None</td>\n",
       "      <td>None</td>\n",
       "      <td>None</td>\n",
       "      <td>None</td>\n",
       "      <td>None</td>\n",
       "      <td>None</td>\n",
       "      <td>None</td>\n",
       "      <td>803.0</td>\n",
       "      <td>1428.0</td>\n",
       "      <td>None</td>\n",
       "    </tr>\n",
       "    <tr>\n",
       "      <th>3</th>\n",
       "      <td>3</td>\n",
       "      <td>None</td>\n",
       "      <td>None</td>\n",
       "      <td>None</td>\n",
       "      <td>None</td>\n",
       "      <td>None</td>\n",
       "      <td>None</td>\n",
       "      <td>None</td>\n",
       "      <td>None</td>\n",
       "      <td>None</td>\n",
       "      <td>...</td>\n",
       "      <td>None</td>\n",
       "      <td>None</td>\n",
       "      <td>None</td>\n",
       "      <td>None</td>\n",
       "      <td>None</td>\n",
       "      <td>None</td>\n",
       "      <td>None</td>\n",
       "      <td>27.0</td>\n",
       "      <td>NaN</td>\n",
       "      <td>None</td>\n",
       "    </tr>\n",
       "    <tr>\n",
       "      <th>4</th>\n",
       "      <td>4</td>\n",
       "      <td>None</td>\n",
       "      <td>None</td>\n",
       "      <td>None</td>\n",
       "      <td>None</td>\n",
       "      <td>None</td>\n",
       "      <td>None</td>\n",
       "      <td>None</td>\n",
       "      <td>None</td>\n",
       "      <td>None</td>\n",
       "      <td>...</td>\n",
       "      <td>None</td>\n",
       "      <td>None</td>\n",
       "      <td>None</td>\n",
       "      <td>None</td>\n",
       "      <td>None</td>\n",
       "      <td>None</td>\n",
       "      <td>None</td>\n",
       "      <td>NaN</td>\n",
       "      <td>82.0</td>\n",
       "      <td>None</td>\n",
       "    </tr>\n",
       "    <tr>\n",
       "      <th>5</th>\n",
       "      <td>5</td>\n",
       "      <td>None</td>\n",
       "      <td>None</td>\n",
       "      <td>None</td>\n",
       "      <td>None</td>\n",
       "      <td>None</td>\n",
       "      <td>None</td>\n",
       "      <td>None</td>\n",
       "      <td>None</td>\n",
       "      <td>None</td>\n",
       "      <td>...</td>\n",
       "      <td>None</td>\n",
       "      <td>None</td>\n",
       "      <td>None</td>\n",
       "      <td>None</td>\n",
       "      <td>None</td>\n",
       "      <td>None</td>\n",
       "      <td>None</td>\n",
       "      <td>1376.0</td>\n",
       "      <td>1065.0</td>\n",
       "      <td>None</td>\n",
       "    </tr>\n",
       "    <tr>\n",
       "      <th>6</th>\n",
       "      <td>6</td>\n",
       "      <td>None</td>\n",
       "      <td>None</td>\n",
       "      <td>None</td>\n",
       "      <td>None</td>\n",
       "      <td>None</td>\n",
       "      <td>None</td>\n",
       "      <td>None</td>\n",
       "      <td>None</td>\n",
       "      <td>None</td>\n",
       "      <td>...</td>\n",
       "      <td>None</td>\n",
       "      <td>None</td>\n",
       "      <td>None</td>\n",
       "      <td>None</td>\n",
       "      <td>None</td>\n",
       "      <td>None</td>\n",
       "      <td>None</td>\n",
       "      <td>97.0</td>\n",
       "      <td>604.0</td>\n",
       "      <td>None</td>\n",
       "    </tr>\n",
       "    <tr>\n",
       "      <th>7</th>\n",
       "      <td>7</td>\n",
       "      <td>None</td>\n",
       "      <td>None</td>\n",
       "      <td>None</td>\n",
       "      <td>None</td>\n",
       "      <td>None</td>\n",
       "      <td>None</td>\n",
       "      <td>None</td>\n",
       "      <td>None</td>\n",
       "      <td>None</td>\n",
       "      <td>...</td>\n",
       "      <td>None</td>\n",
       "      <td>None</td>\n",
       "      <td>None</td>\n",
       "      <td>None</td>\n",
       "      <td>None</td>\n",
       "      <td>None</td>\n",
       "      <td>None</td>\n",
       "      <td>165.0</td>\n",
       "      <td>1549.0</td>\n",
       "      <td>None</td>\n",
       "    </tr>\n",
       "    <tr>\n",
       "      <th>8</th>\n",
       "      <td>8</td>\n",
       "      <td>None</td>\n",
       "      <td>None</td>\n",
       "      <td>None</td>\n",
       "      <td>None</td>\n",
       "      <td>None</td>\n",
       "      <td>None</td>\n",
       "      <td>None</td>\n",
       "      <td>None</td>\n",
       "      <td>None</td>\n",
       "      <td>...</td>\n",
       "      <td>None</td>\n",
       "      <td>None</td>\n",
       "      <td>None</td>\n",
       "      <td>None</td>\n",
       "      <td>None</td>\n",
       "      <td>None</td>\n",
       "      <td>None</td>\n",
       "      <td>59.0</td>\n",
       "      <td>NaN</td>\n",
       "      <td>None</td>\n",
       "    </tr>\n",
       "    <tr>\n",
       "      <th>9</th>\n",
       "      <td>9</td>\n",
       "      <td>None</td>\n",
       "      <td>None</td>\n",
       "      <td>None</td>\n",
       "      <td>None</td>\n",
       "      <td>None</td>\n",
       "      <td>None</td>\n",
       "      <td>None</td>\n",
       "      <td>None</td>\n",
       "      <td>None</td>\n",
       "      <td>...</td>\n",
       "      <td>None</td>\n",
       "      <td>None</td>\n",
       "      <td>None</td>\n",
       "      <td>None</td>\n",
       "      <td>None</td>\n",
       "      <td>None</td>\n",
       "      <td>None</td>\n",
       "      <td>NaN</td>\n",
       "      <td>NaN</td>\n",
       "      <td>None</td>\n",
       "    </tr>\n",
       "  </tbody>\n",
       "</table>\n",
       "<p>10 rows × 853 columns</p>\n",
       "</div>"
      ],
      "text/plain": [
       "   index ACCREDAGENCY INSTURL NPCURL  HCM2 LOCALE LOCALE2 LATITUDE LONGITUDE  \\\n",
       "0      0         None    None   None  None   None    None     None      None   \n",
       "1      1         None    None   None  None   None    None     None      None   \n",
       "2      2         None    None   None  None   None    None     None      None   \n",
       "3      3         None    None   None  None   None    None     None      None   \n",
       "4      4         None    None   None  None   None    None     None      None   \n",
       "5      5         None    None   None  None   None    None     None      None   \n",
       "6      6         None    None   None  None   None    None     None      None   \n",
       "7      7         None    None   None  None   None    None     None      None   \n",
       "8      8         None    None   None  None   None    None     None      None   \n",
       "9      9         None    None   None  None   None    None     None      None   \n",
       "\n",
       "  CCBASIC    ...     D150_L4_UNKN D150_L4_WHITENH D150_L4_BLACKNH D150_L4_API  \\\n",
       "0    None    ...             None            None            None        None   \n",
       "1    None    ...             None            None            None        None   \n",
       "2    None    ...             None            None            None        None   \n",
       "3    None    ...             None            None            None        None   \n",
       "4    None    ...             None            None            None        None   \n",
       "5    None    ...             None            None            None        None   \n",
       "6    None    ...             None            None            None        None   \n",
       "7    None    ...             None            None            None        None   \n",
       "8    None    ...             None            None            None        None   \n",
       "9    None    ...             None            None            None        None   \n",
       "\n",
       "  D150_L4_AIANOLD D150_L4_HISPOLD D_PCTPELL_PCTFLOAN  UGNONDS   GRADS  \\\n",
       "0            None            None               None  18982.0     NaN   \n",
       "1            None            None               None      NaN  1038.0   \n",
       "2            None            None               None    803.0  1428.0   \n",
       "3            None            None               None     27.0     NaN   \n",
       "4            None            None               None      NaN    82.0   \n",
       "5            None            None               None   1376.0  1065.0   \n",
       "6            None            None               None     97.0   604.0   \n",
       "7            None            None               None    165.0  1549.0   \n",
       "8            None            None               None     59.0     NaN   \n",
       "9            None            None               None      NaN     NaN   \n",
       "\n",
       "  ACCREDCODE  \n",
       "0       None  \n",
       "1       None  \n",
       "2       None  \n",
       "3       None  \n",
       "4       None  \n",
       "5       None  \n",
       "6       None  \n",
       "7       None  \n",
       "8       None  \n",
       "9       None  \n",
       "\n",
       "[10 rows x 853 columns]"
      ]
     },
     "execution_count": 8,
     "metadata": {},
     "output_type": "execute_result"
    }
   ],
   "source": [
    "pd.read_sql_query('''SELECT * FROM data_c\n",
    "                  LIMIT 10''',connection)"
   ]
  },
  {
   "cell_type": "code",
   "execution_count": 13,
   "metadata": {},
   "outputs": [
    {
     "data": {
      "text/html": [
       "<div>\n",
       "<style>\n",
       "    .dataframe thead tr:only-child th {\n",
       "        text-align: right;\n",
       "    }\n",
       "\n",
       "    .dataframe thead th {\n",
       "        text-align: left;\n",
       "    }\n",
       "\n",
       "    .dataframe tbody tr th {\n",
       "        vertical-align: top;\n",
       "    }\n",
       "</style>\n",
       "<table border=\"1\" class=\"dataframe\">\n",
       "  <thead>\n",
       "    <tr style=\"text-align: right;\">\n",
       "      <th></th>\n",
       "      <th>COUNT (*)</th>\n",
       "    </tr>\n",
       "  </thead>\n",
       "  <tbody>\n",
       "    <tr>\n",
       "      <th>0</th>\n",
       "      <td>139995</td>\n",
       "    </tr>\n",
       "  </tbody>\n",
       "</table>\n",
       "</div>"
      ],
      "text/plain": [
       "   COUNT (*)\n",
       "0     139995"
      ]
     },
     "execution_count": 13,
     "metadata": {},
     "output_type": "execute_result"
    }
   ],
   "source": [
    "pd.read_sql_query('''SELECT COUNT (*) FROM data_c''',connection)"
   ]
  },
  {
   "cell_type": "code",
   "execution_count": 59,
   "metadata": {},
   "outputs": [
    {
     "data": {
      "text/plain": [
       "index                   0\n",
       "UNITID                  0\n",
       "HCM2               132402\n",
       "NUMBRANCH               0\n",
       "PREDDEG                 0\n",
       "HIGHDEG                 0\n",
       "CONTROL                23\n",
       "ST_FIPS                 1\n",
       "REGION                  1\n",
       "LOCALE             132848\n",
       "CCBASIC            132848\n",
       "CCUGPROF           132848\n",
       "CCSIZSET           132848\n",
       "HBCU               132848\n",
       "PBI                132848\n",
       "ANNHI              132848\n",
       "TRIBAL             132848\n",
       "AANAPII            132848\n",
       "HSI                132848\n",
       "NANTI              132848\n",
       "MENONLY            132848\n",
       "WOMENONLY          132848\n",
       "ADM_RATE           101475\n",
       "PCIP11              10879\n",
       "PCIP27              10879\n",
       "DISTANCEONLY       103408\n",
       "UG                 133852\n",
       "CURROPER           132402\n",
       "COSTT4_A           111539\n",
       "TUITFTE             19537\n",
       "INEXPFTE            19543\n",
       "AVGFACSAL           60171\n",
       "PFTFAC              71061\n",
       "C150_4             100145\n",
       "C150_L4             70758\n",
       "RET_FT4            112559\n",
       "UG25ABV             80565\n",
       "FEMALE_DEBT_MDN      9694\n",
       "MALE_DEBT_MDN        9694\n",
       "AGE_ENTRY            9722\n",
       "FIRST_GEN            9722\n",
       "T4APPROVALDATE     132858\n",
       "OPENADMP            22277\n",
       "dtype: int64"
      ]
     },
     "execution_count": 59,
     "metadata": {},
     "output_type": "execute_result"
    }
   ],
   "source": [
    "pd.read_sql_query('''SELECT * FROM data''',connection).isnull().sum()"
   ]
  },
  {
   "cell_type": "code",
   "execution_count": 125,
   "metadata": {
    "collapsed": true
   },
   "outputs": [],
   "source": [
    "df = pd.read_sql_query('''SELECT CONTROL, FIRST_GEN FROM data''',connection)"
   ]
  },
  {
   "cell_type": "code",
   "execution_count": 126,
   "metadata": {},
   "outputs": [
    {
     "data": {
      "text/plain": [
       "CONTROL        23\n",
       "FIRST_GEN    9722\n",
       "dtype: int64"
      ]
     },
     "execution_count": 126,
     "metadata": {},
     "output_type": "execute_result"
    }
   ],
   "source": [
    "df.isnull().sum()"
   ]
  },
  {
   "cell_type": "code",
   "execution_count": 127,
   "metadata": {
    "collapsed": true
   },
   "outputs": [],
   "source": [
    "df['CONTROL'] = df['CONTROL'].fillna(0)"
   ]
  },
  {
   "cell_type": "code",
   "execution_count": 129,
   "metadata": {
    "collapsed": true
   },
   "outputs": [],
   "source": [
    "df = df[df['CONTROL']!=0]"
   ]
  },
  {
   "cell_type": "code",
   "execution_count": 130,
   "metadata": {},
   "outputs": [
    {
     "data": {
      "text/plain": [
       "CONTROL         0\n",
       "FIRST_GEN    9722\n",
       "dtype: int64"
      ]
     },
     "execution_count": 130,
     "metadata": {},
     "output_type": "execute_result"
    }
   ],
   "source": [
    "df.isnull().sum()"
   ]
  },
  {
   "cell_type": "code",
   "execution_count": 131,
   "metadata": {},
   "outputs": [
    {
     "data": {
      "text/plain": [
       "19022"
      ]
     },
     "execution_count": 131,
     "metadata": {},
     "output_type": "execute_result"
    }
   ],
   "source": [
    "df['FIRST_GEN'].loc[df['FIRST_GEN']=='PrivacySuppressed'].count()"
   ]
  },
  {
   "cell_type": "code",
   "execution_count": 132,
   "metadata": {
    "collapsed": true
   },
   "outputs": [],
   "source": [
    "df = df.replace('PrivacySuppressed',np.NaN)"
   ]
  },
  {
   "cell_type": "code",
   "execution_count": 133,
   "metadata": {},
   "outputs": [
    {
     "data": {
      "text/plain": [
       "CONTROL          0\n",
       "FIRST_GEN    28744\n",
       "dtype: int64"
      ]
     },
     "execution_count": 133,
     "metadata": {},
     "output_type": "execute_result"
    }
   ],
   "source": [
    "df.isnull().sum()"
   ]
  },
  {
   "cell_type": "code",
   "execution_count": 134,
   "metadata": {
    "collapsed": true
   },
   "outputs": [],
   "source": [
    "df_mean = df.fillna(df.mean())"
   ]
  },
  {
   "cell_type": "code",
   "execution_count": 135,
   "metadata": {},
   "outputs": [
    {
     "data": {
      "text/plain": [
       "CONTROL      0\n",
       "FIRST_GEN    0\n",
       "dtype: int64"
      ]
     },
     "execution_count": 135,
     "metadata": {},
     "output_type": "execute_result"
    }
   ],
   "source": [
    "df_mean.isnull().sum()"
   ]
  },
  {
   "cell_type": "code",
   "execution_count": 136,
   "metadata": {},
   "outputs": [
    {
     "data": {
      "text/plain": [
       "array([ 1.,  2.,  3.])"
      ]
     },
     "execution_count": 136,
     "metadata": {},
     "output_type": "execute_result"
    }
   ],
   "source": [
    "df_mean['CONTROL'].unique()"
   ]
  },
  {
   "cell_type": "code",
   "execution_count": 179,
   "metadata": {
    "collapsed": true
   },
   "outputs": [],
   "source": [
    "df_1 = df_mean.groupby(['CONTROL']).mean()"
   ]
  },
  {
   "cell_type": "code",
   "execution_count": 180,
   "metadata": {},
   "outputs": [
    {
     "data": {
      "text/plain": [
       "Index(['FIRST_GEN'], dtype='object')"
      ]
     },
     "execution_count": 180,
     "metadata": {},
     "output_type": "execute_result"
    }
   ],
   "source": [
    "df_1.columns"
   ]
  },
  {
   "cell_type": "code",
   "execution_count": 186,
   "metadata": {},
   "outputs": [
    {
     "data": {
      "text/html": [
       "<div>\n",
       "<style>\n",
       "    .dataframe thead tr:only-child th {\n",
       "        text-align: right;\n",
       "    }\n",
       "\n",
       "    .dataframe thead th {\n",
       "        text-align: left;\n",
       "    }\n",
       "\n",
       "    .dataframe tbody tr th {\n",
       "        vertical-align: top;\n",
       "    }\n",
       "</style>\n",
       "<table border=\"1\" class=\"dataframe\">\n",
       "  <thead>\n",
       "    <tr style=\"text-align: right;\">\n",
       "      <th></th>\n",
       "      <th>FIRST_GEN</th>\n",
       "    </tr>\n",
       "    <tr>\n",
       "      <th>CONTROL</th>\n",
       "      <th></th>\n",
       "    </tr>\n",
       "  </thead>\n",
       "  <tbody>\n",
       "    <tr>\n",
       "      <th>1.0</th>\n",
       "      <td>0.489233</td>\n",
       "    </tr>\n",
       "    <tr>\n",
       "      <th>2.0</th>\n",
       "      <td>0.419690</td>\n",
       "    </tr>\n",
       "    <tr>\n",
       "      <th>3.0</th>\n",
       "      <td>0.536210</td>\n",
       "    </tr>\n",
       "  </tbody>\n",
       "</table>\n",
       "</div>"
      ],
      "text/plain": [
       "         FIRST_GEN\n",
       "CONTROL           \n",
       "1.0       0.489233\n",
       "2.0       0.419690\n",
       "3.0       0.536210"
      ]
     },
     "execution_count": 186,
     "metadata": {},
     "output_type": "execute_result"
    }
   ],
   "source": [
    "df_1"
   ]
  },
  {
   "cell_type": "code",
   "execution_count": 181,
   "metadata": {
    "collapsed": true
   },
   "outputs": [],
   "source": [
    "x = df_1.index\n",
    "y = df_1['FIRST_GEN']"
   ]
  },
  {
   "cell_type": "code",
   "execution_count": 191,
   "metadata": {},
   "outputs": [
    {
     "data": {
      "text/plain": [
       "Text(0,0.5,' AVG % of First-Generation Students')"
      ]
     },
     "execution_count": 191,
     "metadata": {},
     "output_type": "execute_result"
    },
    {
     "data": {
      "image/png": "[encoded data removed]",
      "text/plain": [
       "<matplotlib.figure.Figure at 0x10e0a3358>"
      ]
     },
     "metadata": {},
     "output_type": "display_data"
    }
   ],
   "source": [
    "plt.scatter(x,y*100)\n",
    "plt.title(\"Average Share of First-Generation Students in Publicly & Privately Owned Institutions\")\n",
    "plt.xlabel(\"Control of Institution |1 = Public, 2 = Private Non-profit, 3 = Private For-Profit\")\n",
    "plt.ylabel(\" AVG % of First-Generation Students\")"
   ]
  },
  {
   "cell_type": "code",
   "execution_count": null,
   "metadata": {
    "collapsed": true
   },
   "outputs": [],
   "source": []
  }
 ],
 "metadata": {
  "kernelspec": {
   "display_name": "Python 3",
   "language": "python",
   "name": "python3"
  },
  "language_info": {
   "codemirror_mode": {
    "name": "ipython",
    "version": 3
   },
   "file_extension": ".py",
   "mimetype": "text/x-python",
   "name": "python",
   "nbconvert_exporter": "python",
   "pygments_lexer": "ipython3",
   "version": "3.6.3"
  }
 },
 "nbformat": 4,
 "nbformat_minor": 2
}
