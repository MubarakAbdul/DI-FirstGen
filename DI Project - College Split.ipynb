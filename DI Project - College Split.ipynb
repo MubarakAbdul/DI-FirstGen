{
 "cells": [
  {
   "cell_type": "code",
   "execution_count": 2,
   "metadata": {
    "collapsed": true
   },
   "outputs": [],
   "source": [
    "import numpy as np\n",
    "import pandas as pd\n",
    "import matplotlib.pyplot as plt\n",
    "%matplotlib inline\n",
    "import sqlite3\n",
    "import datetime as dt"
   ]
  },
  {
   "cell_type": "code",
   "execution_count": 3,
   "metadata": {
    "collapsed": true
   },
   "outputs": [],
   "source": [
    "# Remove warnings\n",
    "import warnings\n",
    "warnings.filterwarnings('ignore')"
   ]
  },
  {
   "cell_type": "code",
   "execution_count": 3,
   "metadata": {},
   "outputs": [
    {
     "name": "stdout",
     "output_type": "stream",
     "text": [
      "/Users/Mubarak/Documents/GitHub/DI Project/FirstGen\r\n"
     ]
    }
   ],
   "source": [
    "!pwd"
   ]
  },
  {
   "cell_type": "code",
   "execution_count": 4,
   "metadata": {},
   "outputs": [
    {
     "name": "stdout",
     "output_type": "stream",
     "text": [
      "311_NYC.csv                         \u001b[31mMERGED2003_04_PP.csv\u001b[m\u001b[m\r\n",
      "CollegeScorecardDataDictionary.xlsx \u001b[31mMERGED2004_05_PP.csv\u001b[m\u001b[m\r\n",
      "\u001b[34mCrosswalks_20170806\u001b[m\u001b[m                 \u001b[31mMERGED2005_06_PP.csv\u001b[m\u001b[m\r\n",
      "DI Project - Final-Copy1.ipynb      \u001b[31mMERGED2006_07_PP.csv\u001b[m\u001b[m\r\n",
      "DI Project - Final.ipynb            \u001b[31mMERGED2007_08_PP.csv\u001b[m\u001b[m\r\n",
      "\u001b[31mDI Project_Old.ipynb\u001b[m\u001b[m                \u001b[31mMERGED2008_09_PP.csv\u001b[m\u001b[m\r\n",
      "\u001b[31mFirst Plot\u001b[m\u001b[m                          \u001b[31mMERGED2009_10_PP.csv\u001b[m\u001b[m\r\n",
      "\u001b[31mFirstGen - Plot 1.ipynb\u001b[m\u001b[m             \u001b[31mMERGED2010_11_PP.csv\u001b[m\u001b[m\r\n",
      "\u001b[31mFirstGen - Plot 2.ipynb\u001b[m\u001b[m             \u001b[31mMERGED2011_12_PP.csv\u001b[m\u001b[m\r\n",
      "\u001b[31mMERGED1996_97_PP.csv\u001b[m\u001b[m                \u001b[31mMERGED2012_13_PP.csv\u001b[m\u001b[m\r\n",
      "\u001b[31mMERGED1997_98_PP.csv\u001b[m\u001b[m                \u001b[31mMERGED2013_14_PP.csv\u001b[m\u001b[m\r\n",
      "\u001b[31mMERGED1998_99_PP.csv\u001b[m\u001b[m                \u001b[31mMERGED2014_15_PP.csv\u001b[m\u001b[m\r\n",
      "\u001b[31mMERGED1999_00_PP.csv\u001b[m\u001b[m                \u001b[31mMERGED2015_16_PP.csv\u001b[m\u001b[m\r\n",
      "\u001b[31mMERGED2000_01_PP.csv\u001b[m\u001b[m                Untitled.ipynb\r\n",
      "\u001b[31mMERGED2001_02_PP.csv\u001b[m\u001b[m                firstgen.db\r\n",
      "\u001b[31mMERGED2002_03_PP.csv\u001b[m\u001b[m                firstgenCOMPLETE.db\r\n"
     ]
    }
   ],
   "source": [
    "!ls"
   ]
  },
  {
   "cell_type": "code",
   "execution_count": 6,
   "metadata": {},
   "outputs": [
    {
     "name": "stdout",
     "output_type": "stream",
     "text": [
      "    6795 MERGED1996_97_PP.csv\r\n"
     ]
    }
   ],
   "source": [
    "!wc -l MERGED1996_97_PP.csv"
   ]
  },
  {
   "cell_type": "code",
   "execution_count": 4,
   "metadata": {
    "collapsed": true
   },
   "outputs": [],
   "source": [
    "connection = sqlite3.connect('firstgen.db')"
   ]
  },
  {
   "cell_type": "code",
   "execution_count": 5,
   "metadata": {
    "collapsed": true
   },
   "outputs": [],
   "source": [
    "cursor = connection.cursor()"
   ]
  },
  {
   "cell_type": "code",
   "execution_count": 16,
   "metadata": {
    "collapsed": true
   },
   "outputs": [],
   "source": [
    "files = ('MERGED1996_97_PP.csv','MERGED1997_98_PP.csv','MERGED1998_99_PP.csv','MERGED1999_00_PP.csv',\n",
    "         'MERGED2000_01_PP.csv','MERGED2001_02_PP.csv','MERGED2002_03_PP.csv','MERGED2003_04_PP.csv',\n",
    "         'MERGED2004_05_PP.csv','MERGED2005_06_PP.csv','MERGED2006_07_PP.csv','MERGED2007_08_PP.csv',\n",
    "         'MERGED2008_09_PP.csv','MERGED2009_10_PP.csv','MERGED2010_11_PP.csv','MERGED2011_12_PP.csv',\n",
    "         'MERGED2012_13_PP.csv','MERGED2013_14_PP.csv','MERGED2014_15_PP.csv','MERGED2015_16_PP.csv')\n",
    "         "
   ]
  },
  {
   "cell_type": "code",
   "execution_count": 17,
   "metadata": {},
   "outputs": [
    {
     "name": "stdout",
     "output_type": "stream",
     "text": [
      "29 seconds: completed 5000 rows\n",
      "40 seconds: completed 10000 rows\n",
      "1 files uploaded\n",
      "33 seconds: completed 5000 rows\n",
      "46 seconds: completed 10000 rows\n",
      "2 files uploaded\n",
      "40 seconds: completed 5000 rows\n",
      "53 seconds: completed 10000 rows\n",
      "3 files uploaded\n",
      "43 seconds: completed 5000 rows\n",
      "56 seconds: completed 10000 rows\n",
      "4 files uploaded\n",
      "49 seconds: completed 5000 rows\n",
      "64 seconds: completed 10000 rows\n",
      "5 files uploaded\n",
      "49 seconds: completed 5000 rows\n",
      "66 seconds: completed 10000 rows\n",
      "6 files uploaded\n",
      "56 seconds: completed 5000 rows\n",
      "75 seconds: completed 10000 rows\n",
      "7 files uploaded\n",
      "62 seconds: completed 5000 rows\n",
      "84 seconds: completed 10000 rows\n",
      "8 files uploaded\n",
      "61 seconds: completed 5000 rows\n",
      "82 seconds: completed 10000 rows\n",
      "9 files uploaded\n",
      "68 seconds: completed 5000 rows\n",
      "93 seconds: completed 10000 rows\n",
      "10 files uploaded\n",
      "66 seconds: completed 5000 rows\n",
      "92 seconds: completed 10000 rows\n",
      "11 files uploaded\n",
      "69 seconds: completed 5000 rows\n",
      "96 seconds: completed 10000 rows\n",
      "12 files uploaded\n",
      "72 seconds: completed 5000 rows\n",
      "100 seconds: completed 10000 rows\n",
      "13 files uploaded\n",
      "75 seconds: completed 5000 rows\n",
      "106 seconds: completed 10000 rows\n",
      "14 files uploaded\n",
      "126 seconds: completed 5000 rows\n",
      "191 seconds: completed 10000 rows\n",
      "15 files uploaded\n",
      "139 seconds: completed 5000 rows\n",
      "213 seconds: completed 10000 rows\n",
      "16 files uploaded\n",
      "117 seconds: completed 5000 rows\n",
      "158 seconds: completed 10000 rows\n",
      "17 files uploaded\n",
      "82 seconds: completed 5000 rows\n",
      "124 seconds: completed 10000 rows\n",
      "18 files uploaded\n",
      "82 seconds: completed 5000 rows\n",
      "124 seconds: completed 10000 rows\n",
      "19 files uploaded\n",
      "50 seconds: completed 5000 rows\n",
      "76 seconds: completed 10000 rows\n",
      "20 files uploaded\n"
     ]
    }
   ],
   "source": [
    "for i,x in enumerate(files):  \n",
    "    start = dt.datetime.now()\n",
    "    chunksize = 5000\n",
    "    j = 0\n",
    "\n",
    "    for df in pd.read_csv(x, chunksize=chunksize):\n",
    "\n",
    "        df = df.rename(columns={c: c.replace(' ', '') for c in df.columns}) # Remove spaces from columns\n",
    "        j+=1\n",
    "        \n",
    "    # Need to put the below names in a list to make the function shorter\n",
    "        columns = ['UNITID', 'OPEID', 'OPEID6', 'INSTNM', 'CITY', 'STABBR', 'ZIP',\n",
    "       'SCH_DEG', 'MAIN', 'NUMBRANCH', 'PREDDEG', 'HIGHDEG', 'CONTROL',\n",
    "       'ST_FIPS', 'REGION', 'PCIP01', 'PCIP03', 'PCIP04', 'PCIP05', 'PCIP09',\n",
    "       'PCIP10', 'PCIP11', 'PCIP12', 'PCIP13', 'PCIP14', 'PCIP15', 'PCIP16',\n",
    "       'PCIP19', 'PCIP22', 'PCIP23', 'PCIP24', 'PCIP25', 'PCIP26', 'PCIP27',\n",
    "       'PCIP29', 'PCIP30', 'PCIP31', 'PCIP38', 'PCIP39', 'PCIP40', 'PCIP41',\n",
    "       'PCIP42', 'PCIP43', 'PCIP44', 'PCIP45', 'PCIP46', 'PCIP47', 'PCIP48',\n",
    "       'PCIP49', 'PCIP50', 'PCIP51', 'PCIP52', 'PCIP54', 'CIP01CERT1',\n",
    "       'CIP01CERT2', 'CIP01ASSOC', 'CIP01CERT4', 'CIP01BACHL', 'CIP03CERT1',\n",
    "       'CIP03CERT2', 'CIP03ASSOC', 'CIP03CERT4', 'CIP03BACHL', 'CIP04CERT1',\n",
    "       'CIP04CERT2', 'CIP04ASSOC', 'CIP04CERT4', 'CIP04BACHL', 'CIP05CERT1',\n",
    "       'CIP05CERT2', 'CIP05ASSOC', 'CIP05CERT4', 'CIP05BACHL', 'CIP09CERT1',\n",
    "       'CIP09CERT2', 'CIP09ASSOC', 'CIP09CERT4', 'CIP09BACHL', 'CIP10CERT1',\n",
    "       'CIP10CERT2', 'CIP10ASSOC', 'CIP10CERT4', 'CIP10BACHL', 'CIP11CERT1',\n",
    "       'CIP11CERT2', 'CIP11ASSOC', 'CIP11CERT4', 'CIP11BACHL', 'CIP12CERT1',\n",
    "       'CIP12CERT2', 'CIP12ASSOC', 'CIP12CERT4', 'CIP12BACHL', 'CIP13CERT1',\n",
    "       'CIP13CERT2', 'CIP13ASSOC', 'CIP13CERT4', 'CIP13BACHL', 'CIP14CERT1',\n",
    "       'CIP14CERT2', 'CIP14ASSOC', 'CIP14CERT4', 'CIP14BACHL', 'CIP15CERT1',\n",
    "       'CIP15CERT2', 'CIP15ASSOC', 'CIP15CERT4', 'CIP15BACHL', 'CIP16CERT1',\n",
    "       'CIP16CERT2', 'CIP16ASSOC', 'CIP16CERT4', 'CIP16BACHL', 'CIP19CERT1',\n",
    "       'CIP19CERT2', 'CIP19ASSOC', 'CIP19CERT4', 'CIP19BACHL', 'CIP22CERT1',\n",
    "       'CIP22CERT2', 'CIP22ASSOC', 'CIP22CERT4', 'CIP22BACHL', 'CIP23CERT1',\n",
    "       'CIP23CERT2', 'CIP23ASSOC', 'CIP23CERT4', 'CIP23BACHL', 'CIP24CERT1',\n",
    "       'CIP24CERT2', 'CIP24ASSOC', 'CIP24CERT4', 'CIP24BACHL', 'CIP25CERT1',\n",
    "       'CIP25CERT2', 'CIP25ASSOC', 'CIP25CERT4', 'CIP25BACHL', 'CIP26CERT1',\n",
    "       'CIP26CERT2', 'CIP26ASSOC', 'CIP26CERT4', 'CIP26BACHL', 'CIP27CERT1',\n",
    "       'CIP27CERT2', 'CIP27ASSOC', 'CIP27CERT4', 'CIP27BACHL', 'CIP29CERT1',\n",
    "       'CIP29CERT2', 'CIP29ASSOC', 'CIP29CERT4', 'CIP29BACHL', 'CIP30CERT1',\n",
    "       'CIP30CERT2', 'CIP30ASSOC', 'CIP30CERT4', 'CIP30BACHL', 'CIP31CERT1',\n",
    "       'CIP31CERT2', 'CIP31ASSOC', 'CIP31CERT4', 'CIP31BACHL', 'CIP38CERT1',\n",
    "       'CIP38CERT2', 'CIP38ASSOC', 'CIP38CERT4', 'CIP38BACHL', 'CIP39CERT1',\n",
    "       'CIP39CERT2', 'CIP39ASSOC', 'CIP39CERT4', 'CIP39BACHL', 'CIP40CERT1',\n",
    "       'CIP40CERT2', 'CIP40ASSOC', 'CIP40CERT4', 'CIP40BACHL', 'CIP41CERT1',\n",
    "       'CIP41CERT2', 'CIP41ASSOC', 'CIP41CERT4', 'CIP41BACHL', 'CIP42CERT1',\n",
    "       'CIP42CERT2', 'CIP42ASSOC', 'CIP42CERT4', 'CIP42BACHL', 'CIP43CERT1',\n",
    "       'CIP43CERT2', 'CIP43ASSOC', 'CIP43CERT4', 'CIP43BACHL', 'CIP44CERT1',\n",
    "       'CIP44CERT2', 'CIP44ASSOC', 'CIP44CERT4', 'CIP44BACHL', 'CIP45CERT1',\n",
    "       'CIP45CERT2', 'CIP45ASSOC', 'CIP45CERT4', 'CIP45BACHL', 'CIP46CERT1',\n",
    "       'CIP46CERT2', 'CIP46ASSOC', 'CIP46CERT4', 'CIP46BACHL', 'CIP47CERT1',\n",
    "       'CIP47CERT2', 'CIP47ASSOC', 'CIP47CERT4', 'CIP47BACHL', 'CIP48CERT1',\n",
    "       'CIP48CERT2', 'CIP48ASSOC', 'CIP48CERT4', 'CIP48BACHL', 'CIP49CERT1',\n",
    "       'CIP49CERT2', 'CIP49ASSOC', 'CIP49CERT4', 'CIP49BACHL', 'CIP50CERT1',\n",
    "       'CIP50CERT2', 'CIP50ASSOC', 'CIP50CERT4', 'CIP50BACHL', 'CIP51CERT1',\n",
    "       'CIP51CERT2', 'CIP51ASSOC', 'CIP51CERT4', 'CIP51BACHL', 'CIP52CERT1',\n",
    "       'CIP52CERT2', 'CIP52ASSOC', 'CIP52CERT4', 'CIP52BACHL', 'CIP54CERT1',\n",
    "       'CIP54CERT2', 'CIP54ASSOC', 'CIP54CERT4', 'CIP54BACHL', 'UGDS',\n",
    "       'UGDS_NRA', 'UGDS_UNKN', 'PPTUG_EF', 'TUITFTE', 'INEXPFTE', 'CDR2',\n",
    "       'DEATH_YR2_RT', 'COMP_ORIG_YR2_RT', 'COMP_4YR_TRANS_YR2_RT',\n",
    "       'COMP_2YR_TRANS_YR2_RT', 'WDRAW_ORIG_YR2_RT', 'WDRAW_4YR_TRANS_YR2_RT',\n",
    "       'WDRAW_2YR_TRANS_YR2_RT', 'ENRL_ORIG_YR2_RT', 'ENRL_4YR_TRANS_YR2_RT',\n",
    "       'ENRL_2YR_TRANS_YR2_RT', 'UNKN_ORIG_YR2_RT', 'UNKN_4YR_TRANS_YR2_RT',\n",
    "       'UNKN_2YR_TRANS_YR2_RT', 'LO_INC_DEATH_YR2_RT',\n",
    "       'LO_INC_COMP_ORIG_YR2_RT', 'LO_INC_COMP_4YR_TRANS_YR2_RT',\n",
    "       'LO_INC_COMP_2YR_TRANS_YR2_RT', 'LO_INC_WDRAW_ORIG_YR2_RT',\n",
    "       'LO_INC_WDRAW_4YR_TRANS_YR2_RT', 'LO_INC_WDRAW_2YR_TRANS_YR2_RT',\n",
    "       'LO_INC_ENRL_ORIG_YR2_RT', 'LO_INC_ENRL_4YR_TRANS_YR2_RT',\n",
    "       'LO_INC_ENRL_2YR_TRANS_YR2_RT', 'LO_INC_UNKN_ORIG_YR2_RT',\n",
    "       'LO_INC_UNKN_4YR_TRANS_YR2_RT', 'LO_INC_UNKN_2YR_TRANS_YR2_RT',\n",
    "       'MD_INC_DEATH_YR2_RT', 'MD_INC_COMP_ORIG_YR2_RT',\n",
    "       'MD_INC_COMP_4YR_TRANS_YR2_RT', 'MD_INC_COMP_2YR_TRANS_YR2_RT',\n",
    "       'MD_INC_WDRAW_ORIG_YR2_RT', 'MD_INC_WDRAW_4YR_TRANS_YR2_RT',\n",
    "       'MD_INC_WDRAW_2YR_TRANS_YR2_RT', 'MD_INC_ENRL_ORIG_YR2_RT',\n",
    "       'MD_INC_ENRL_4YR_TRANS_YR2_RT', 'MD_INC_ENRL_2YR_TRANS_YR2_RT',\n",
    "       'MD_INC_UNKN_ORIG_YR2_RT', 'MD_INC_UNKN_4YR_TRANS_YR2_RT',\n",
    "       'MD_INC_UNKN_2YR_TRANS_YR2_RT', 'HI_INC_DEATH_YR2_RT',\n",
    "       'HI_INC_COMP_ORIG_YR2_RT', 'HI_INC_COMP_4YR_TRANS_YR2_RT',\n",
    "       'HI_INC_COMP_2YR_TRANS_YR2_RT', 'HI_INC_WDRAW_ORIG_YR2_RT',\n",
    "       'HI_INC_WDRAW_4YR_TRANS_YR2_RT', 'HI_INC_WDRAW_2YR_TRANS_YR2_RT',\n",
    "       'HI_INC_ENRL_ORIG_YR2_RT', 'HI_INC_ENRL_4YR_TRANS_YR2_RT',\n",
    "       'HI_INC_ENRL_2YR_TRANS_YR2_RT', 'HI_INC_UNKN_ORIG_YR2_RT',\n",
    "       'HI_INC_UNKN_4YR_TRANS_YR2_RT', 'HI_INC_UNKN_2YR_TRANS_YR2_RT',\n",
    "       'DEP_DEATH_YR2_RT', 'DEP_COMP_ORIG_YR2_RT', 'DEP_COMP_4YR_TRANS_YR2_RT',\n",
    "       'DEP_COMP_2YR_TRANS_YR2_RT', 'DEP_WDRAW_ORIG_YR2_RT',\n",
    "       'DEP_WDRAW_4YR_TRANS_YR2_RT', 'DEP_WDRAW_2YR_TRANS_YR2_RT',\n",
    "       'DEP_ENRL_ORIG_YR2_RT', 'DEP_ENRL_4YR_TRANS_YR2_RT',\n",
    "       'DEP_ENRL_2YR_TRANS_YR2_RT', 'DEP_UNKN_ORIG_YR2_RT',\n",
    "       'DEP_UNKN_4YR_TRANS_YR2_RT', 'DEP_UNKN_2YR_TRANS_YR2_RT',\n",
    "       'IND_DEATH_YR2_RT', 'IND_COMP_ORIG_YR2_RT', 'IND_COMP_4YR_TRANS_YR2_RT',\n",
    "       'IND_COMP_2YR_TRANS_YR2_RT', 'IND_WDRAW_ORIG_YR2_RT',\n",
    "       'IND_WDRAW_4YR_TRANS_YR2_RT', 'IND_WDRAW_2YR_TRANS_YR2_RT',\n",
    "       'IND_ENRL_ORIG_YR2_RT', 'IND_ENRL_4YR_TRANS_YR2_RT',\n",
    "       'IND_ENRL_2YR_TRANS_YR2_RT', 'IND_UNKN_ORIG_YR2_RT',\n",
    "       'IND_UNKN_4YR_TRANS_YR2_RT', 'IND_UNKN_2YR_TRANS_YR2_RT',\n",
    "       'FEMALE_DEATH_YR2_RT', 'FEMALE_COMP_ORIG_YR2_RT',\n",
    "       'FEMALE_COMP_4YR_TRANS_YR2_RT', 'FEMALE_COMP_2YR_TRANS_YR2_RT',\n",
    "       'FEMALE_WDRAW_ORIG_YR2_RT', 'FEMALE_WDRAW_4YR_TRANS_YR2_RT',\n",
    "       'FEMALE_WDRAW_2YR_TRANS_YR2_RT', 'FEMALE_ENRL_ORIG_YR2_RT',\n",
    "       'FEMALE_ENRL_4YR_TRANS_YR2_RT', 'FEMALE_ENRL_2YR_TRANS_YR2_RT',\n",
    "       'FEMALE_UNKN_ORIG_YR2_RT', 'FEMALE_UNKN_4YR_TRANS_YR2_RT',\n",
    "       'FEMALE_UNKN_2YR_TRANS_YR2_RT', 'MALE_DEATH_YR2_RT',\n",
    "       'MALE_COMP_ORIG_YR2_RT', 'MALE_COMP_4YR_TRANS_YR2_RT',\n",
    "       'MALE_COMP_2YR_TRANS_YR2_RT', 'MALE_WDRAW_ORIG_YR2_RT',\n",
    "       'MALE_WDRAW_4YR_TRANS_YR2_RT', 'MALE_WDRAW_2YR_TRANS_YR2_RT',\n",
    "       'MALE_ENRL_ORIG_YR2_RT', 'MALE_ENRL_4YR_TRANS_YR2_RT',\n",
    "       'MALE_ENRL_2YR_TRANS_YR2_RT', 'MALE_UNKN_ORIG_YR2_RT',\n",
    "       'MALE_UNKN_4YR_TRANS_YR2_RT', 'MALE_UNKN_2YR_TRANS_YR2_RT',\n",
    "       'PELL_DEATH_YR2_RT', 'PELL_COMP_ORIG_YR2_RT',\n",
    "       'PELL_COMP_4YR_TRANS_YR2_RT', 'PELL_COMP_2YR_TRANS_YR2_RT',\n",
    "       'PELL_WDRAW_ORIG_YR2_RT', 'PELL_WDRAW_4YR_TRANS_YR2_RT',\n",
    "       'PELL_WDRAW_2YR_TRANS_YR2_RT', 'PELL_ENRL_ORIG_YR2_RT',\n",
    "       'PELL_ENRL_4YR_TRANS_YR2_RT', 'PELL_ENRL_2YR_TRANS_YR2_RT',\n",
    "       'PELL_UNKN_ORIG_YR2_RT', 'PELL_UNKN_4YR_TRANS_YR2_RT',\n",
    "       'PELL_UNKN_2YR_TRANS_YR2_RT', 'NOPELL_DEATH_YR2_RT',\n",
    "       'NOPELL_COMP_ORIG_YR2_RT', 'NOPELL_COMP_4YR_TRANS_YR2_RT',\n",
    "       'NOPELL_COMP_2YR_TRANS_YR2_RT', 'NOPELL_WDRAW_ORIG_YR2_RT',\n",
    "       'NOPELL_WDRAW_4YR_TRANS_YR2_RT', 'NOPELL_WDRAW_2YR_TRANS_YR2_RT',\n",
    "       'NOPELL_ENRL_ORIG_YR2_RT', 'NOPELL_ENRL_4YR_TRANS_YR2_RT',\n",
    "       'NOPELL_ENRL_2YR_TRANS_YR2_RT', 'NOPELL_UNKN_ORIG_YR2_RT',\n",
    "       'NOPELL_UNKN_4YR_TRANS_YR2_RT', 'NOPELL_UNKN_2YR_TRANS_YR2_RT',\n",
    "       'LOAN_DEATH_YR2_RT', 'LOAN_COMP_ORIG_YR2_RT',\n",
    "       'LOAN_COMP_4YR_TRANS_YR2_RT', 'LOAN_COMP_2YR_TRANS_YR2_RT',\n",
    "       'LOAN_WDRAW_ORIG_YR2_RT', 'LOAN_WDRAW_4YR_TRANS_YR2_RT',\n",
    "       'LOAN_WDRAW_2YR_TRANS_YR2_RT', 'LOAN_ENRL_ORIG_YR2_RT',\n",
    "       'LOAN_ENRL_4YR_TRANS_YR2_RT', 'LOAN_ENRL_2YR_TRANS_YR2_RT',\n",
    "       'LOAN_UNKN_ORIG_YR2_RT', 'LOAN_UNKN_4YR_TRANS_YR2_RT',\n",
    "       'LOAN_UNKN_2YR_TRANS_YR2_RT', 'NOLOAN_DEATH_YR2_RT',\n",
    "       'NOLOAN_COMP_ORIG_YR2_RT', 'NOLOAN_COMP_4YR_TRANS_YR2_RT',\n",
    "       'NOLOAN_COMP_2YR_TRANS_YR2_RT', 'NOLOAN_WDRAW_ORIG_YR2_RT',\n",
    "       'NOLOAN_WDRAW_4YR_TRANS_YR2_RT', 'NOLOAN_WDRAW_2YR_TRANS_YR2_RT',\n",
    "       'NOLOAN_ENRL_ORIG_YR2_RT', 'NOLOAN_ENRL_4YR_TRANS_YR2_RT',\n",
    "       'NOLOAN_ENRL_2YR_TRANS_YR2_RT', 'NOLOAN_UNKN_ORIG_YR2_RT',\n",
    "       'NOLOAN_UNKN_4YR_TRANS_YR2_RT', 'NOLOAN_UNKN_2YR_TRANS_YR2_RT',\n",
    "       'FIRSTGEN_DEATH_YR2_RT', 'FIRSTGEN_COMP_ORIG_YR2_RT',\n",
    "       'FIRSTGEN_COMP_4YR_TRANS_YR2_RT', 'FIRSTGEN_COMP_2YR_TRANS_YR2_RT',\n",
    "       'FIRSTGEN_WDRAW_ORIG_YR2_RT', 'FIRSTGEN_WDRAW_4YR_TRANS_YR2_RT',\n",
    "       'FIRSTGEN_WDRAW_2YR_TRANS_YR2_RT', 'FIRSTGEN_ENRL_ORIG_YR2_RT',\n",
    "       'FIRSTGEN_ENRL_4YR_TRANS_YR2_RT', 'FIRSTGEN_ENRL_2YR_TRANS_YR2_RT',\n",
    "       'FIRSTGEN_UNKN_ORIG_YR2_RT', 'FIRSTGEN_UNKN_4YR_TRANS_YR2_RT',\n",
    "       'FIRSTGEN_UNKN_2YR_TRANS_YR2_RT', 'NOT1STGEN_DEATH_YR2_RT',\n",
    "       'NOT1STGEN_COMP_ORIG_YR2_RT', 'NOT1STGEN_COMP_4YR_TRANS_YR2_RT',\n",
    "       'NOT1STGEN_COMP_2YR_TRANS_YR2_RT', 'NOT1STGEN_WDRAW_ORIG_YR2_RT',\n",
    "       'NOT1STGEN_WDRAW_4YR_TRANS_YR2_RT', 'NOT1STGEN_WDRAW_2YR_TRANS_YR2_RT',\n",
    "       'NOT1STGEN_ENRL_ORIG_YR2_RT', 'NOT1STGEN_ENRL_4YR_TRANS_YR2_RT',\n",
    "       'NOT1STGEN_ENRL_2YR_TRANS_YR2_RT', 'NOT1STGEN_UNKN_ORIG_YR2_RT',\n",
    "       'NOT1STGEN_UNKN_4YR_TRANS_YR2_RT', 'NOT1STGEN_UNKN_2YR_TRANS_YR2_RT',\n",
    "       'DEATH_YR3_RT', 'COMP_ORIG_YR3_RT', 'COMP_4YR_TRANS_YR3_RT',\n",
    "       'COMP_2YR_TRANS_YR3_RT', 'WDRAW_ORIG_YR3_RT', 'WDRAW_4YR_TRANS_YR3_RT',\n",
    "       'WDRAW_2YR_TRANS_YR3_RT', 'ENRL_ORIG_YR3_RT', 'ENRL_4YR_TRANS_YR3_RT',\n",
    "       'ENRL_2YR_TRANS_YR3_RT', 'UNKN_ORIG_YR3_RT', 'UNKN_4YR_TRANS_YR3_RT',\n",
    "       'UNKN_2YR_TRANS_YR3_RT', 'LO_INC_DEATH_YR3_RT',\n",
    "       'LO_INC_COMP_ORIG_YR3_RT', 'LO_INC_COMP_4YR_TRANS_YR3_RT',\n",
    "       'LO_INC_COMP_2YR_TRANS_YR3_RT', 'LO_INC_WDRAW_ORIG_YR3_RT',\n",
    "       'LO_INC_WDRAW_4YR_TRANS_YR3_RT', 'LO_INC_WDRAW_2YR_TRANS_YR3_RT',\n",
    "       'LO_INC_ENRL_ORIG_YR3_RT', 'LO_INC_ENRL_4YR_TRANS_YR3_RT',\n",
    "       'LO_INC_ENRL_2YR_TRANS_YR3_RT', 'LO_INC_UNKN_ORIG_YR3_RT',\n",
    "       'LO_INC_UNKN_4YR_TRANS_YR3_RT', 'LO_INC_UNKN_2YR_TRANS_YR3_RT',\n",
    "       'MD_INC_DEATH_YR3_RT', 'MD_INC_COMP_ORIG_YR3_RT',\n",
    "       'MD_INC_COMP_4YR_TRANS_YR3_RT', 'MD_INC_COMP_2YR_TRANS_YR3_RT',\n",
    "       'MD_INC_WDRAW_ORIG_YR3_RT', 'MD_INC_WDRAW_4YR_TRANS_YR3_RT',\n",
    "       'MD_INC_WDRAW_2YR_TRANS_YR3_RT', 'MD_INC_ENRL_ORIG_YR3_RT',\n",
    "       'MD_INC_ENRL_4YR_TRANS_YR3_RT', 'MD_INC_ENRL_2YR_TRANS_YR3_RT',\n",
    "       'MD_INC_UNKN_ORIG_YR3_RT', 'MD_INC_UNKN_4YR_TRANS_YR3_RT',\n",
    "       'MD_INC_UNKN_2YR_TRANS_YR3_RT', 'HI_INC_DEATH_YR3_RT',\n",
    "       'HI_INC_COMP_ORIG_YR3_RT', 'HI_INC_COMP_4YR_TRANS_YR3_RT',\n",
    "       'HI_INC_COMP_2YR_TRANS_YR3_RT', 'HI_INC_WDRAW_ORIG_YR3_RT',\n",
    "       'HI_INC_WDRAW_4YR_TRANS_YR3_RT', 'HI_INC_WDRAW_2YR_TRANS_YR3_RT',\n",
    "       'HI_INC_ENRL_ORIG_YR3_RT', 'HI_INC_ENRL_4YR_TRANS_YR3_RT',\n",
    "       'HI_INC_ENRL_2YR_TRANS_YR3_RT', 'HI_INC_UNKN_ORIG_YR3_RT',\n",
    "       'HI_INC_UNKN_4YR_TRANS_YR3_RT', 'HI_INC_UNKN_2YR_TRANS_YR3_RT',\n",
    "       'DEP_DEATH_YR3_RT', 'DEP_COMP_ORIG_YR3_RT', 'DEP_COMP_4YR_TRANS_YR3_RT',\n",
    "       'DEP_COMP_2YR_TRANS_YR3_RT', 'DEP_WDRAW_ORIG_YR3_RT',\n",
    "       'DEP_WDRAW_4YR_TRANS_YR3_RT', 'DEP_WDRAW_2YR_TRANS_YR3_RT',\n",
    "       'DEP_ENRL_ORIG_YR3_RT', 'DEP_ENRL_4YR_TRANS_YR3_RT',\n",
    "       'DEP_ENRL_2YR_TRANS_YR3_RT', 'DEP_UNKN_ORIG_YR3_RT',\n",
    "       'DEP_UNKN_4YR_TRANS_YR3_RT', 'DEP_UNKN_2YR_TRANS_YR3_RT',\n",
    "       'IND_DEATH_YR3_RT', 'IND_COMP_ORIG_YR3_RT', 'IND_COMP_4YR_TRANS_YR3_RT',\n",
    "       'IND_COMP_2YR_TRANS_YR3_RT', 'IND_WDRAW_ORIG_YR3_RT',\n",
    "       'IND_WDRAW_4YR_TRANS_YR3_RT', 'IND_WDRAW_2YR_TRANS_YR3_RT',\n",
    "       'IND_ENRL_ORIG_YR3_RT', 'IND_ENRL_4YR_TRANS_YR3_RT',\n",
    "       'IND_ENRL_2YR_TRANS_YR3_RT', 'IND_UNKN_ORIG_YR3_RT',\n",
    "       'IND_UNKN_4YR_TRANS_YR3_RT', 'IND_UNKN_2YR_TRANS_YR3_RT',\n",
    "       'FEMALE_DEATH_YR3_RT', 'FEMALE_COMP_ORIG_YR3_RT',\n",
    "       'FEMALE_COMP_4YR_TRANS_YR3_RT', 'FEMALE_COMP_2YR_TRANS_YR3_RT',\n",
    "       'FEMALE_WDRAW_ORIG_YR3_RT', 'FEMALE_WDRAW_4YR_TRANS_YR3_RT',\n",
    "       'FEMALE_WDRAW_2YR_TRANS_YR3_RT', 'FEMALE_ENRL_ORIG_YR3_RT',\n",
    "       'FEMALE_ENRL_4YR_TRANS_YR3_RT', 'FEMALE_ENRL_2YR_TRANS_YR3_RT',\n",
    "       'FEMALE_UNKN_ORIG_YR3_RT', 'FEMALE_UNKN_4YR_TRANS_YR3_RT',\n",
    "       'FEMALE_UNKN_2YR_TRANS_YR3_RT', 'MALE_DEATH_YR3_RT',\n",
    "       'MALE_COMP_ORIG_YR3_RT', 'MALE_COMP_4YR_TRANS_YR3_RT',\n",
    "       'MALE_COMP_2YR_TRANS_YR3_RT', 'MALE_WDRAW_ORIG_YR3_RT',\n",
    "       'MALE_WDRAW_4YR_TRANS_YR3_RT', 'MALE_WDRAW_2YR_TRANS_YR3_RT',\n",
    "       'MALE_ENRL_ORIG_YR3_RT', 'MALE_ENRL_4YR_TRANS_YR3_RT',\n",
    "       'MALE_ENRL_2YR_TRANS_YR3_RT', 'MALE_UNKN_ORIG_YR3_RT',\n",
    "       'MALE_UNKN_4YR_TRANS_YR3_RT', 'MALE_UNKN_2YR_TRANS_YR3_RT',\n",
    "       'PELL_DEATH_YR3_RT', 'PELL_COMP_ORIG_YR3_RT',\n",
    "       'PELL_COMP_4YR_TRANS_YR3_RT', 'PELL_COMP_2YR_TRANS_YR3_RT',\n",
    "       'PELL_WDRAW_ORIG_YR3_RT', 'PELL_WDRAW_4YR_TRANS_YR3_RT',\n",
    "       'PELL_WDRAW_2YR_TRANS_YR3_RT', 'PELL_ENRL_ORIG_YR3_RT',\n",
    "       'PELL_ENRL_4YR_TRANS_YR3_RT', 'PELL_ENRL_2YR_TRANS_YR3_RT',\n",
    "       'PELL_UNKN_ORIG_YR3_RT', 'PELL_UNKN_4YR_TRANS_YR3_RT',\n",
    "       'PELL_UNKN_2YR_TRANS_YR3_RT', 'NOPELL_DEATH_YR3_RT',\n",
    "       'NOPELL_COMP_ORIG_YR3_RT', 'NOPELL_COMP_4YR_TRANS_YR3_RT',\n",
    "       'NOPELL_COMP_2YR_TRANS_YR3_RT', 'NOPELL_WDRAW_ORIG_YR3_RT',\n",
    "       'NOPELL_WDRAW_4YR_TRANS_YR3_RT', 'NOPELL_WDRAW_2YR_TRANS_YR3_RT',\n",
    "       'NOPELL_ENRL_ORIG_YR3_RT', 'NOPELL_ENRL_4YR_TRANS_YR3_RT',\n",
    "       'NOPELL_ENRL_2YR_TRANS_YR3_RT', 'NOPELL_UNKN_ORIG_YR3_RT',\n",
    "       'NOPELL_UNKN_4YR_TRANS_YR3_RT', 'NOPELL_UNKN_2YR_TRANS_YR3_RT',\n",
    "       'LOAN_DEATH_YR3_RT', 'LOAN_COMP_ORIG_YR3_RT',\n",
    "       'LOAN_COMP_4YR_TRANS_YR3_RT', 'LOAN_COMP_2YR_TRANS_YR3_RT',\n",
    "       'LOAN_WDRAW_ORIG_YR3_RT', 'LOAN_WDRAW_4YR_TRANS_YR3_RT',\n",
    "       'LOAN_WDRAW_2YR_TRANS_YR3_RT', 'LOAN_ENRL_ORIG_YR3_RT',\n",
    "       'LOAN_ENRL_4YR_TRANS_YR3_RT', 'LOAN_ENRL_2YR_TRANS_YR3_RT',\n",
    "       'LOAN_UNKN_ORIG_YR3_RT', 'LOAN_UNKN_4YR_TRANS_YR3_RT',\n",
    "       'LOAN_UNKN_2YR_TRANS_YR3_RT', 'NOLOAN_DEATH_YR3_RT',\n",
    "       'NOLOAN_COMP_ORIG_YR3_RT', 'NOLOAN_COMP_4YR_TRANS_YR3_RT',\n",
    "       'NOLOAN_COMP_2YR_TRANS_YR3_RT', 'NOLOAN_WDRAW_ORIG_YR3_RT',\n",
    "       'NOLOAN_WDRAW_4YR_TRANS_YR3_RT', 'NOLOAN_WDRAW_2YR_TRANS_YR3_RT',\n",
    "       'NOLOAN_ENRL_ORIG_YR3_RT', 'NOLOAN_ENRL_4YR_TRANS_YR3_RT',\n",
    "       'NOLOAN_ENRL_2YR_TRANS_YR3_RT', 'NOLOAN_UNKN_ORIG_YR3_RT',\n",
    "       'NOLOAN_UNKN_4YR_TRANS_YR3_RT', 'NOLOAN_UNKN_2YR_TRANS_YR3_RT',\n",
    "       'FIRSTGEN_DEATH_YR3_RT', 'FIRSTGEN_COMP_ORIG_YR3_RT',\n",
    "       'FIRSTGEN_COMP_4YR_TRANS_YR3_RT', 'FIRSTGEN_COMP_2YR_TRANS_YR3_RT',\n",
    "       'FIRSTGEN_WDRAW_ORIG_YR3_RT', 'FIRSTGEN_WDRAW_4YR_TRANS_YR3_RT',\n",
    "       'FIRSTGEN_WDRAW_2YR_TRANS_YR3_RT', 'FIRSTGEN_ENRL_ORIG_YR3_RT',\n",
    "       'FIRSTGEN_ENRL_4YR_TRANS_YR3_RT', 'FIRSTGEN_ENRL_2YR_TRANS_YR3_RT',\n",
    "       'FIRSTGEN_UNKN_ORIG_YR3_RT', 'FIRSTGEN_UNKN_4YR_TRANS_YR3_RT',\n",
    "       'FIRSTGEN_UNKN_2YR_TRANS_YR3_RT', 'NOT1STGEN_DEATH_YR3_RT',\n",
    "       'NOT1STGEN_COMP_ORIG_YR3_RT', 'NOT1STGEN_COMP_4YR_TRANS_YR3_RT',\n",
    "       'NOT1STGEN_COMP_2YR_TRANS_YR3_RT', 'NOT1STGEN_WDRAW_ORIG_YR3_RT',\n",
    "       'NOT1STGEN_WDRAW_4YR_TRANS_YR3_RT', 'NOT1STGEN_WDRAW_2YR_TRANS_YR3_RT',\n",
    "       'NOT1STGEN_ENRL_ORIG_YR3_RT', 'NOT1STGEN_ENRL_4YR_TRANS_YR3_RT',\n",
    "       'NOT1STGEN_ENRL_2YR_TRANS_YR3_RT', 'NOT1STGEN_UNKN_ORIG_YR3_RT',\n",
    "       'NOT1STGEN_UNKN_4YR_TRANS_YR3_RT', 'NOT1STGEN_UNKN_2YR_TRANS_YR3_RT',\n",
    "       'DEATH_YR4_RT', 'COMP_ORIG_YR4_RT', 'COMP_4YR_TRANS_YR4_RT',\n",
    "       'COMP_2YR_TRANS_YR4_RT', 'WDRAW_ORIG_YR4_RT', 'WDRAW_4YR_TRANS_YR4_RT',\n",
    "       'WDRAW_2YR_TRANS_YR4_RT', 'ENRL_ORIG_YR4_RT', 'ENRL_4YR_TRANS_YR4_RT',\n",
    "       'ENRL_2YR_TRANS_YR4_RT', 'UNKN_ORIG_YR4_RT', 'UNKN_4YR_TRANS_YR4_RT',\n",
    "       'UNKN_2YR_TRANS_YR4_RT', 'LO_INC_DEATH_YR4_RT',\n",
    "       'LO_INC_COMP_ORIG_YR4_RT', 'LO_INC_COMP_4YR_TRANS_YR4_RT',\n",
    "       'LO_INC_COMP_2YR_TRANS_YR4_RT', 'LO_INC_WDRAW_ORIG_YR4_RT',\n",
    "       'LO_INC_WDRAW_4YR_TRANS_YR4_RT', 'LO_INC_WDRAW_2YR_TRANS_YR4_RT',\n",
    "       'LO_INC_ENRL_ORIG_YR4_RT', 'LO_INC_ENRL_4YR_TRANS_YR4_RT',\n",
    "       'LO_INC_ENRL_2YR_TRANS_YR4_RT', 'LO_INC_UNKN_ORIG_YR4_RT',\n",
    "       'LO_INC_UNKN_4YR_TRANS_YR4_RT', 'LO_INC_UNKN_2YR_TRANS_YR4_RT',\n",
    "       'MD_INC_DEATH_YR4_RT', 'MD_INC_COMP_ORIG_YR4_RT',\n",
    "       'MD_INC_COMP_4YR_TRANS_YR4_RT', 'MD_INC_COMP_2YR_TRANS_YR4_RT',\n",
    "       'MD_INC_WDRAW_ORIG_YR4_RT', 'MD_INC_WDRAW_4YR_TRANS_YR4_RT',\n",
    "       'MD_INC_WDRAW_2YR_TRANS_YR4_RT', 'MD_INC_ENRL_ORIG_YR4_RT',\n",
    "       'MD_INC_ENRL_4YR_TRANS_YR4_RT', 'MD_INC_ENRL_2YR_TRANS_YR4_RT',\n",
    "       'MD_INC_UNKN_ORIG_YR4_RT', 'MD_INC_UNKN_4YR_TRANS_YR4_RT',\n",
    "       'MD_INC_UNKN_2YR_TRANS_YR4_RT', 'HI_INC_DEATH_YR4_RT',\n",
    "       'HI_INC_COMP_ORIG_YR4_RT', 'HI_INC_COMP_4YR_TRANS_YR4_RT',\n",
    "       'HI_INC_COMP_2YR_TRANS_YR4_RT', 'HI_INC_WDRAW_ORIG_YR4_RT',\n",
    "       'HI_INC_WDRAW_4YR_TRANS_YR4_RT', 'HI_INC_WDRAW_2YR_TRANS_YR4_RT',\n",
    "       'HI_INC_ENRL_ORIG_YR4_RT', 'HI_INC_ENRL_4YR_TRANS_YR4_RT',\n",
    "       'HI_INC_ENRL_2YR_TRANS_YR4_RT', 'HI_INC_UNKN_ORIG_YR4_RT',\n",
    "       'HI_INC_UNKN_4YR_TRANS_YR4_RT', 'HI_INC_UNKN_2YR_TRANS_YR4_RT',\n",
    "       'DEP_DEATH_YR4_RT', 'DEP_COMP_ORIG_YR4_RT', 'DEP_COMP_4YR_TRANS_YR4_RT',\n",
    "       'DEP_COMP_2YR_TRANS_YR4_RT', 'DEP_WDRAW_ORIG_YR4_RT',\n",
    "       'DEP_WDRAW_4YR_TRANS_YR4_RT', 'DEP_WDRAW_2YR_TRANS_YR4_RT',\n",
    "       'DEP_ENRL_ORIG_YR4_RT', 'DEP_ENRL_4YR_TRANS_YR4_RT',\n",
    "       'DEP_ENRL_2YR_TRANS_YR4_RT', 'DEP_UNKN_ORIG_YR4_RT',\n",
    "       'DEP_UNKN_4YR_TRANS_YR4_RT', 'DEP_UNKN_2YR_TRANS_YR4_RT',\n",
    "       'IND_DEATH_YR4_RT', 'IND_COMP_ORIG_YR4_RT', 'IND_COMP_4YR_TRANS_YR4_RT',\n",
    "       'IND_COMP_2YR_TRANS_YR4_RT', 'IND_WDRAW_ORIG_YR4_RT',\n",
    "       'IND_WDRAW_4YR_TRANS_YR4_RT', 'IND_WDRAW_2YR_TRANS_YR4_RT',\n",
    "       'IND_ENRL_ORIG_YR4_RT', 'IND_ENRL_4YR_TRANS_YR4_RT',\n",
    "       'IND_ENRL_2YR_TRANS_YR4_RT', 'IND_UNKN_ORIG_YR4_RT',\n",
    "       'IND_UNKN_4YR_TRANS_YR4_RT', 'IND_UNKN_2YR_TRANS_YR4_RT',\n",
    "       'FEMALE_DEATH_YR4_RT', 'FEMALE_COMP_ORIG_YR4_RT',\n",
    "       'FEMALE_COMP_4YR_TRANS_YR4_RT', 'FEMALE_COMP_2YR_TRANS_YR4_RT',\n",
    "       'FEMALE_WDRAW_ORIG_YR4_RT', 'FEMALE_WDRAW_4YR_TRANS_YR4_RT',\n",
    "       'FEMALE_WDRAW_2YR_TRANS_YR4_RT', 'FEMALE_ENRL_ORIG_YR4_RT',\n",
    "       'FEMALE_ENRL_4YR_TRANS_YR4_RT', 'FEMALE_ENRL_2YR_TRANS_YR4_RT',\n",
    "       'FEMALE_UNKN_ORIG_YR4_RT', 'FEMALE_UNKN_4YR_TRANS_YR4_RT',\n",
    "       'FEMALE_UNKN_2YR_TRANS_YR4_RT', 'MALE_DEATH_YR4_RT',\n",
    "       'MALE_COMP_ORIG_YR4_RT', 'MALE_COMP_4YR_TRANS_YR4_RT',\n",
    "       'MALE_COMP_2YR_TRANS_YR4_RT', 'MALE_WDRAW_ORIG_YR4_RT',\n",
    "       'MALE_WDRAW_4YR_TRANS_YR4_RT', 'MALE_WDRAW_2YR_TRANS_YR4_RT',\n",
    "       'MALE_ENRL_ORIG_YR4_RT', 'MALE_ENRL_4YR_TRANS_YR4_RT',\n",
    "       'MALE_ENRL_2YR_TRANS_YR4_RT', 'MALE_UNKN_ORIG_YR4_RT',\n",
    "       'MALE_UNKN_4YR_TRANS_YR4_RT', 'MALE_UNKN_2YR_TRANS_YR4_RT',\n",
    "       'PELL_DEATH_YR4_RT', 'PELL_COMP_ORIG_YR4_RT',\n",
    "       'PELL_COMP_4YR_TRANS_YR4_RT', 'PELL_COMP_2YR_TRANS_YR4_RT',\n",
    "       'PELL_WDRAW_ORIG_YR4_RT', 'PELL_WDRAW_4YR_TRANS_YR4_RT',\n",
    "       'PELL_WDRAW_2YR_TRANS_YR4_RT', 'PELL_ENRL_ORIG_YR4_RT',\n",
    "       'PELL_ENRL_4YR_TRANS_YR4_RT', 'PELL_ENRL_2YR_TRANS_YR4_RT',\n",
    "       'PELL_UNKN_ORIG_YR4_RT', 'PELL_UNKN_4YR_TRANS_YR4_RT',\n",
    "       'PELL_UNKN_2YR_TRANS_YR4_RT', 'NOPELL_DEATH_YR4_RT',\n",
    "       'NOPELL_COMP_ORIG_YR4_RT', 'NOPELL_COMP_4YR_TRANS_YR4_RT',\n",
    "       'NOPELL_COMP_2YR_TRANS_YR4_RT', 'NOPELL_WDRAW_ORIG_YR4_RT',\n",
    "       'NOPELL_WDRAW_4YR_TRANS_YR4_RT', 'NOPELL_WDRAW_2YR_TRANS_YR4_RT',\n",
    "       'NOPELL_ENRL_ORIG_YR4_RT', 'NOPELL_ENRL_4YR_TRANS_YR4_RT',\n",
    "       'NOPELL_ENRL_2YR_TRANS_YR4_RT', 'NOPELL_UNKN_ORIG_YR4_RT',\n",
    "       'NOPELL_UNKN_4YR_TRANS_YR4_RT', 'NOPELL_UNKN_2YR_TRANS_YR4_RT',\n",
    "       'LOAN_DEATH_YR4_RT', 'LOAN_COMP_ORIG_YR4_RT',\n",
    "       'LOAN_COMP_4YR_TRANS_YR4_RT', 'LOAN_COMP_2YR_TRANS_YR4_RT',\n",
    "       'LOAN_WDRAW_ORIG_YR4_RT', 'LOAN_WDRAW_4YR_TRANS_YR4_RT',\n",
    "       'LOAN_WDRAW_2YR_TRANS_YR4_RT', 'LOAN_ENRL_ORIG_YR4_RT',\n",
    "       'LOAN_ENRL_4YR_TRANS_YR4_RT', 'LOAN_ENRL_2YR_TRANS_YR4_RT',\n",
    "       'LOAN_UNKN_ORIG_YR4_RT', 'LOAN_UNKN_4YR_TRANS_YR4_RT',\n",
    "       'LOAN_UNKN_2YR_TRANS_YR4_RT', 'NOLOAN_DEATH_YR4_RT',\n",
    "       'NOLOAN_COMP_ORIG_YR4_RT', 'NOLOAN_COMP_4YR_TRANS_YR4_RT',\n",
    "       'NOLOAN_COMP_2YR_TRANS_YR4_RT', 'NOLOAN_WDRAW_ORIG_YR4_RT',\n",
    "       'NOLOAN_WDRAW_4YR_TRANS_YR4_RT', 'NOLOAN_WDRAW_2YR_TRANS_YR4_RT',\n",
    "       'NOLOAN_ENRL_ORIG_YR4_RT', 'NOLOAN_ENRL_4YR_TRANS_YR4_RT',\n",
    "       'NOLOAN_ENRL_2YR_TRANS_YR4_RT', 'NOLOAN_UNKN_ORIG_YR4_RT',\n",
    "       'NOLOAN_UNKN_4YR_TRANS_YR4_RT', 'NOLOAN_UNKN_2YR_TRANS_YR4_RT',\n",
    "       'FIRSTGEN_DEATH_YR4_RT', 'FIRSTGEN_COMP_ORIG_YR4_RT',\n",
    "       'FIRSTGEN_COMP_4YR_TRANS_YR4_RT', 'FIRSTGEN_COMP_2YR_TRANS_YR4_RT',\n",
    "       'FIRSTGEN_WDRAW_ORIG_YR4_RT', 'FIRSTGEN_WDRAW_4YR_TRANS_YR4_RT',\n",
    "       'FIRSTGEN_WDRAW_2YR_TRANS_YR4_RT', 'FIRSTGEN_ENRL_ORIG_YR4_RT',\n",
    "       'FIRSTGEN_ENRL_4YR_TRANS_YR4_RT', 'FIRSTGEN_ENRL_2YR_TRANS_YR4_RT',\n",
    "       'FIRSTGEN_UNKN_ORIG_YR4_RT', 'FIRSTGEN_UNKN_4YR_TRANS_YR4_RT',\n",
    "       'FIRSTGEN_UNKN_2YR_TRANS_YR4_RT', 'NOT1STGEN_DEATH_YR4_RT',\n",
    "       'NOT1STGEN_COMP_ORIG_YR4_RT', 'NOT1STGEN_COMP_4YR_TRANS_YR4_RT',\n",
    "       'NOT1STGEN_COMP_2YR_TRANS_YR4_RT', 'NOT1STGEN_WDRAW_ORIG_YR4_RT',\n",
    "       'NOT1STGEN_WDRAW_4YR_TRANS_YR4_RT', 'NOT1STGEN_WDRAW_2YR_TRANS_YR4_RT',\n",
    "       'NOT1STGEN_ENRL_ORIG_YR4_RT', 'NOT1STGEN_ENRL_4YR_TRANS_YR4_RT',\n",
    "       'NOT1STGEN_ENRL_2YR_TRANS_YR4_RT', 'NOT1STGEN_UNKN_ORIG_YR4_RT',\n",
    "       'NOT1STGEN_UNKN_4YR_TRANS_YR4_RT', 'NOT1STGEN_UNKN_2YR_TRANS_YR4_RT',\n",
    "       'INC_PCT_LO', 'DEP_STAT_PCT_IND', 'DEP_INC_PCT_LO', 'IND_INC_PCT_LO',\n",
    "       'PAR_ED_PCT_1STGEN', 'INC_PCT_M1', 'INC_PCT_M2', 'INC_PCT_H1',\n",
    "       'INC_PCT_H2', 'DEP_INC_PCT_M1', 'DEP_INC_PCT_M2', 'DEP_INC_PCT_H1',\n",
    "       'DEP_INC_PCT_H2', 'IND_INC_PCT_M1', 'IND_INC_PCT_M2', 'IND_INC_PCT_H1',\n",
    "       'IND_INC_PCT_H2', 'PAR_ED_PCT_MS', 'PAR_ED_PCT_HS', 'PAR_ED_PCT_PS',\n",
    "       'APPL_SCH_PCT_GE2', 'APPL_SCH_PCT_GE3', 'APPL_SCH_PCT_GE4',\n",
    "       'APPL_SCH_PCT_GE5', 'DEP_INC_AVG', 'IND_INC_AVG', 'OVERALL_YR2_N',\n",
    "       'LO_INC_YR2_N', 'MD_INC_YR2_N', 'HI_INC_YR2_N', 'DEP_YR2_N',\n",
    "       'IND_YR2_N', 'FEMALE_YR2_N', 'MALE_YR2_N', 'PELL_YR2_N', 'NOPELL_YR2_N',\n",
    "       'LOAN_YR2_N', 'NOLOAN_YR2_N', 'FIRSTGEN_YR2_N', 'NOT1STGEN_YR2_N',\n",
    "       'OVERALL_YR3_N', 'LO_INC_YR3_N', 'MD_INC_YR3_N', 'HI_INC_YR3_N',\n",
    "       'DEP_YR3_N', 'IND_YR3_N', 'FEMALE_YR3_N', 'MALE_YR3_N', 'PELL_YR3_N',\n",
    "       'NOPELL_YR3_N', 'LOAN_YR3_N', 'NOLOAN_YR3_N', 'FIRSTGEN_YR3_N',\n",
    "       'NOT1STGEN_YR3_N', 'OVERALL_YR4_N', 'LO_INC_YR4_N', 'MD_INC_YR4_N',\n",
    "       'HI_INC_YR4_N', 'DEP_YR4_N', 'IND_YR4_N', 'FEMALE_YR4_N', 'MALE_YR4_N',\n",
    "       'PELL_YR4_N', 'NOPELL_YR4_N', 'LOAN_YR4_N', 'NOLOAN_YR4_N',\n",
    "       'FIRSTGEN_YR4_N', 'NOT1STGEN_YR4_N', 'DEBT_MDN', 'GRAD_DEBT_MDN',\n",
    "       'WDRAW_DEBT_MDN', 'LO_INC_DEBT_MDN', 'MD_INC_DEBT_MDN',\n",
    "       'HI_INC_DEBT_MDN', 'DEP_DEBT_MDN', 'IND_DEBT_MDN', 'PELL_DEBT_MDN',\n",
    "       'NOPELL_DEBT_MDN', 'FEMALE_DEBT_MDN', 'MALE_DEBT_MDN',\n",
    "       'FIRSTGEN_DEBT_MDN', 'NOTFIRSTGEN_DEBT_MDN', 'DEBT_N', 'GRAD_DEBT_N',\n",
    "       'WDRAW_DEBT_N', 'LO_INC_DEBT_N', 'MD_INC_DEBT_N', 'HI_INC_DEBT_N',\n",
    "       'DEP_DEBT_N', 'IND_DEBT_N', 'PELL_DEBT_N', 'NOPELL_DEBT_N',\n",
    "       'FEMALE_DEBT_N', 'MALE_DEBT_N', 'FIRSTGEN_DEBT_N', 'NOTFIRSTGEN_DEBT_N',\n",
    "       'CUML_DEBT_N', 'CUML_DEBT_P90', 'CUML_DEBT_P75', 'CUML_DEBT_P25',\n",
    "       'CUML_DEBT_P10', 'INC_N', 'DEP_INC_N', 'IND_INC_N', 'DEP_STAT_N',\n",
    "       'PAR_ED_N', 'APPL_SCH_N', 'REPAY_DT_MDN', 'SEPAR_DT_MDN', 'REPAY_DT_N',\n",
    "       'SEPAR_DT_N', 'LOAN_EVER', 'PELL_EVER', 'AGE_ENTRY', 'FEMALE',\n",
    "       'MARRIED', 'DEPENDENT', 'VETERAN', 'FIRST_GEN', 'FAMINC', 'MD_FAMINC',\n",
    "       'FAMINC_IND', 'DEBT_MDN_SUPP', 'GRAD_DEBT_MDN_SUPP', 'ICLEVEL',\n",
    "       'UGDS_MEN', 'UGDS_WOMEN', 'CDR2_DENOM', 'OPENADMP']\n",
    "\n",
    "        for c in df.columns:\n",
    "            if c not in columns:\n",
    "                df = df.drop(c, axis=1)    \n",
    "\n",
    "\n",
    "        df.to_sql('data_c', connection, if_exists='append') # name of SQL table, connection, append\n",
    "\n",
    "\n",
    "        print('{} seconds: completed {} rows'.format((dt.datetime.now() - start).seconds, j*chunksize))\n",
    "    print(\"{} files uploaded\".format(i+1))"
   ]
  },
  {
   "cell_type": "code",
   "execution_count": 59,
   "metadata": {},
   "outputs": [
    {
     "data": {
      "text/plain": [
       "index                   0\n",
       "UNITID                  0\n",
       "HCM2               132402\n",
       "NUMBRANCH               0\n",
       "PREDDEG                 0\n",
       "HIGHDEG                 0\n",
       "CONTROL                23\n",
       "ST_FIPS                 1\n",
       "REGION                  1\n",
       "LOCALE             132848\n",
       "CCBASIC            132848\n",
       "CCUGPROF           132848\n",
       "CCSIZSET           132848\n",
       "HBCU               132848\n",
       "PBI                132848\n",
       "ANNHI              132848\n",
       "TRIBAL             132848\n",
       "AANAPII            132848\n",
       "HSI                132848\n",
       "NANTI              132848\n",
       "MENONLY            132848\n",
       "WOMENONLY          132848\n",
       "ADM_RATE           101475\n",
       "PCIP11              10879\n",
       "PCIP27              10879\n",
       "DISTANCEONLY       103408\n",
       "UG                 133852\n",
       "CURROPER           132402\n",
       "COSTT4_A           111539\n",
       "TUITFTE             19537\n",
       "INEXPFTE            19543\n",
       "AVGFACSAL           60171\n",
       "PFTFAC              71061\n",
       "C150_4             100145\n",
       "C150_L4             70758\n",
       "RET_FT4            112559\n",
       "UG25ABV             80565\n",
       "FEMALE_DEBT_MDN      9694\n",
       "MALE_DEBT_MDN        9694\n",
       "AGE_ENTRY            9722\n",
       "FIRST_GEN            9722\n",
       "T4APPROVALDATE     132858\n",
       "OPENADMP            22277\n",
       "dtype: int64"
      ]
     },
     "execution_count": 59,
     "metadata": {},
     "output_type": "execute_result"
    }
   ],
   "source": [
    "pd.read_sql_query('''SELECT * FROM data''',connection).isnull().sum()"
   ]
  },
  {
   "cell_type": "code",
   "execution_count": 125,
   "metadata": {
    "collapsed": true
   },
   "outputs": [],
   "source": [
    "df = pd.read_sql_query('''SELECT CONTROL, FIRST_GEN FROM data''',connection)"
   ]
  },
  {
   "cell_type": "code",
   "execution_count": 126,
   "metadata": {},
   "outputs": [
    {
     "data": {
      "text/plain": [
       "CONTROL        23\n",
       "FIRST_GEN    9722\n",
       "dtype: int64"
      ]
     },
     "execution_count": 126,
     "metadata": {},
     "output_type": "execute_result"
    }
   ],
   "source": [
    "df.isnull().sum()"
   ]
  },
  {
   "cell_type": "code",
   "execution_count": 127,
   "metadata": {
    "collapsed": true
   },
   "outputs": [],
   "source": [
    "df['CONTROL'] = df['CONTROL'].fillna(0)"
   ]
  },
  {
   "cell_type": "code",
   "execution_count": 129,
   "metadata": {
    "collapsed": true
   },
   "outputs": [],
   "source": [
    "df = df[df['CONTROL']!=0]"
   ]
  },
  {
   "cell_type": "code",
   "execution_count": 130,
   "metadata": {},
   "outputs": [
    {
     "data": {
      "text/plain": [
       "CONTROL         0\n",
       "FIRST_GEN    9722\n",
       "dtype: int64"
      ]
     },
     "execution_count": 130,
     "metadata": {},
     "output_type": "execute_result"
    }
   ],
   "source": [
    "df.isnull().sum()"
   ]
  },
  {
   "cell_type": "code",
   "execution_count": 131,
   "metadata": {},
   "outputs": [
    {
     "data": {
      "text/plain": [
       "19022"
      ]
     },
     "execution_count": 131,
     "metadata": {},
     "output_type": "execute_result"
    }
   ],
   "source": [
    "df['FIRST_GEN'].loc[df['FIRST_GEN']=='PrivacySuppressed'].count()"
   ]
  },
  {
   "cell_type": "code",
   "execution_count": 132,
   "metadata": {
    "collapsed": true
   },
   "outputs": [],
   "source": [
    "df = df.replace('PrivacySuppressed',np.NaN)"
   ]
  },
  {
   "cell_type": "code",
   "execution_count": 133,
   "metadata": {},
   "outputs": [
    {
     "data": {
      "text/plain": [
       "CONTROL          0\n",
       "FIRST_GEN    28744\n",
       "dtype: int64"
      ]
     },
     "execution_count": 133,
     "metadata": {},
     "output_type": "execute_result"
    }
   ],
   "source": [
    "df.isnull().sum()"
   ]
  },
  {
   "cell_type": "code",
   "execution_count": 134,
   "metadata": {
    "collapsed": true
   },
   "outputs": [],
   "source": [
    "df_mean = df.fillna(df.mean())"
   ]
  },
  {
   "cell_type": "code",
   "execution_count": 135,
   "metadata": {},
   "outputs": [
    {
     "data": {
      "text/plain": [
       "CONTROL      0\n",
       "FIRST_GEN    0\n",
       "dtype: int64"
      ]
     },
     "execution_count": 135,
     "metadata": {},
     "output_type": "execute_result"
    }
   ],
   "source": [
    "df_mean.isnull().sum()"
   ]
  },
  {
   "cell_type": "code",
   "execution_count": 136,
   "metadata": {},
   "outputs": [
    {
     "data": {
      "text/plain": [
       "array([ 1.,  2.,  3.])"
      ]
     },
     "execution_count": 136,
     "metadata": {},
     "output_type": "execute_result"
    }
   ],
   "source": [
    "df_mean['CONTROL'].unique()"
   ]
  },
  {
   "cell_type": "code",
   "execution_count": 179,
   "metadata": {
    "collapsed": true
   },
   "outputs": [],
   "source": [
    "df_1 = df_mean.groupby(['CONTROL']).mean()"
   ]
  },
  {
   "cell_type": "code",
   "execution_count": 180,
   "metadata": {},
   "outputs": [
    {
     "data": {
      "text/plain": [
       "Index(['FIRST_GEN'], dtype='object')"
      ]
     },
     "execution_count": 180,
     "metadata": {},
     "output_type": "execute_result"
    }
   ],
   "source": [
    "df_1.columns"
   ]
  },
  {
   "cell_type": "code",
   "execution_count": 186,
   "metadata": {},
   "outputs": [
    {
     "data": {
      "text/html": [
       "<div>\n",
       "<style>\n",
       "    .dataframe thead tr:only-child th {\n",
       "        text-align: right;\n",
       "    }\n",
       "\n",
       "    .dataframe thead th {\n",
       "        text-align: left;\n",
       "    }\n",
       "\n",
       "    .dataframe tbody tr th {\n",
       "        vertical-align: top;\n",
       "    }\n",
       "</style>\n",
       "<table border=\"1\" class=\"dataframe\">\n",
       "  <thead>\n",
       "    <tr style=\"text-align: right;\">\n",
       "      <th></th>\n",
       "      <th>FIRST_GEN</th>\n",
       "    </tr>\n",
       "    <tr>\n",
       "      <th>CONTROL</th>\n",
       "      <th></th>\n",
       "    </tr>\n",
       "  </thead>\n",
       "  <tbody>\n",
       "    <tr>\n",
       "      <th>1.0</th>\n",
       "      <td>0.489233</td>\n",
       "    </tr>\n",
       "    <tr>\n",
       "      <th>2.0</th>\n",
       "      <td>0.419690</td>\n",
       "    </tr>\n",
       "    <tr>\n",
       "      <th>3.0</th>\n",
       "      <td>0.536210</td>\n",
       "    </tr>\n",
       "  </tbody>\n",
       "</table>\n",
       "</div>"
      ],
      "text/plain": [
       "         FIRST_GEN\n",
       "CONTROL           \n",
       "1.0       0.489233\n",
       "2.0       0.419690\n",
       "3.0       0.536210"
      ]
     },
     "execution_count": 186,
     "metadata": {},
     "output_type": "execute_result"
    }
   ],
   "source": [
    "df_1"
   ]
  },
  {
   "cell_type": "code",
   "execution_count": 181,
   "metadata": {
    "collapsed": true
   },
   "outputs": [],
   "source": [
    "x = df_1.index\n",
    "y = df_1['FIRST_GEN']"
   ]
  },
  {
   "cell_type": "code",
   "execution_count": 191,
   "metadata": {},
   "outputs": [
    {
     "data": {
      "text/plain": [
       "Text(0,0.5,' AVG % of First-Generation Students')"
      ]
     },
     "execution_count": 191,
     "metadata": {},
     "output_type": "execute_result"
    },
    {
     "data": {
      "image/png": "[encoded data removed]",
      "text/plain": [
       "<matplotlib.figure.Figure at 0x10e0a3358>"
      ]
     },
     "metadata": {},
     "output_type": "display_data"
    }
   ],
   "source": [
    "plt.scatter(x,y*100)\n",
    "plt.title(\"Average Share of First-Generation Students in Publicly & Privately Owned Institutions\")\n",
    "plt.xlabel(\"Control of Institution |1 = Public, 2 = Private Non-profit, 3 = Private For-Profit\")\n",
    "plt.ylabel(\" AVG % of First-Generation Students\")"
   ]
  },
  {
   "cell_type": "code",
   "execution_count": null,
   "metadata": {
    "collapsed": true
   },
   "outputs": [],
   "source": []
  }
 ],
 "metadata": {
  "kernelspec": {
   "display_name": "Python 3",
   "language": "python",
   "name": "python3"
  },
  "language_info": {
   "codemirror_mode": {
    "name": "ipython",
    "version": 3
   },
   "file_extension": ".py",
   "mimetype": "text/x-python",
   "name": "python",
   "nbconvert_exporter": "python",
   "pygments_lexer": "ipython3",
   "version": "3.6.3"
  }
 },
 "nbformat": 4,
 "nbformat_minor": 2
}
